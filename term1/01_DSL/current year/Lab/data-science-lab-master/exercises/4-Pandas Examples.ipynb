{
 "cells": [
  {
   "cell_type": "markdown",
   "metadata": {},
   "source": [
    "# Pandas Examples"
   ]
  },
  {
   "cell_type": "code",
   "execution_count": null,
   "metadata": {},
   "outputs": [],
   "source": [
    "#Input data\n",
    "import pandas as pd\n",
    "import numpy as np\n",
    "import matplotlib.pyplot as plt"
   ]
  },
  {
   "cell_type": "markdown",
   "metadata": {},
   "source": [
    "## 1) Accessing DataFrames and Series"
   ]
  },
  {
   "cell_type": "code",
   "execution_count": null,
   "metadata": {},
   "outputs": [],
   "source": [
    "\n",
    "\n",
    "# Input table (12 samples x 4 attributes)\n",
    "X = np.array([[5.1, 3.5, 1, 0.2],\n",
    "           [4.3, 3. , 1, 0.1],\n",
    "           [5. , np.nan, 1, 0.4],\n",
    "           [5.1, 3.4, 2, 0.2],\n",
    "           [7.0, 3.2, 1, 0.2],\n",
    "           [6.9, 3.1, 3, 1.5],\n",
    "           [6.7, 3.1, 1, np.nan],\n",
    "           [6. , 2.9, 2, 1.5],\n",
    "           [6.1, 3. , 2, 1.4],\n",
    "           [6.5, 3. , 3, 2.2],\n",
    "           [7.7, 3.8, 3, 2.2],\n",
    "           [7.4, 2.8, 1, 1.9],\n",
    "           [6.8, 3.2, 1, 2.3]])\n",
    "# Column names\n",
    "columns = ['height','width','intensity','weight']\n",
    "\n",
    "# Class label of each sample\n",
    "labels = np.array([0, 0, 0, 0, 0, 1, 1, 1, 1, 2, 2, 2, 2])"
   ]
  },
  {
   "cell_type": "markdown",
   "metadata": {},
   "source": [
    "**a) Create a DataFrame from a Numpy array (X)**\n",
    "- Setup column names and the class label\n",
    "- Add a new composite feature, 'area' = 'width' * 'height'\n",
    "- Fix missing values with forward fill method"
   ]
  },
  {
   "cell_type": "code",
   "execution_count": null,
   "metadata": {
    "scrolled": false
   },
   "outputs": [],
   "source": []
  },
  {
   "cell_type": "markdown",
   "metadata": {},
   "source": [
    "**b) Compute the average area of samples with intensity greater than 1:**"
   ]
  },
  {
   "cell_type": "code",
   "execution_count": null,
   "metadata": {},
   "outputs": [],
   "source": []
  },
  {
   "cell_type": "markdown",
   "metadata": {},
   "source": [
    "**c) Compute the following probability:**\n",
    "\n",
    "$$P(label=2 \\ | \\ height<7)$$   "
   ]
  },
  {
   "cell_type": "code",
   "execution_count": null,
   "metadata": {},
   "outputs": [],
   "source": []
  },
  {
   "cell_type": "markdown",
   "metadata": {},
   "source": [
    "**d) Compute the following probability. Use the Naive Bayes technique.**\n",
    "$$P(label=l \\ | \\ intensity=2 \\land height<6.5)$$"
   ]
  },
  {
   "cell_type": "code",
   "execution_count": null,
   "metadata": {},
   "outputs": [],
   "source": []
  },
  {
   "cell_type": "markdown",
   "metadata": {},
   "source": [
    "**e) Normalize columns with Sklearn standard scaler, fit a random forest**"
   ]
  },
  {
   "cell_type": "code",
   "execution_count": null,
   "metadata": {
    "scrolled": false
   },
   "outputs": [],
   "source": [
    "from sklearn.preprocessing import StandardScaler\n",
    "from sklearn.ensemble import RandomForestClassifier\n"
   ]
  },
  {
   "cell_type": "markdown",
   "metadata": {},
   "source": [
    "## 2) Working with Pandas and spatial data\n",
    "**a) Load dataframe with Points Of Interest (POIs)**"
   ]
  },
  {
   "cell_type": "code",
   "execution_count": null,
   "metadata": {},
   "outputs": [],
   "source": [
    "# This dictionary maps attributes in the table with correct data types\n",
    "d_types = {'@type':str, '@lat':float, '@lon':float, 'amenity':str, 'name':str, \n",
    "           'shop':str, 'public_transport':str, 'highway':str}\n",
    "# Read \"./pois_all_info\"\n",
    "all_pois_df = pd.read_csv(\"pois_all_info.csv\", sep='\\t', index_col='@id', dtype=d_types)"
   ]
  },
  {
   "cell_type": "code",
   "execution_count": null,
   "metadata": {},
   "outputs": [],
   "source": []
  },
  {
   "cell_type": "markdown",
   "metadata": {},
   "source": [
    "**b) Plot POIS on New-York map**"
   ]
  },
  {
   "cell_type": "code",
   "execution_count": null,
   "metadata": {},
   "outputs": [],
   "source": [
    "def plot_map(pois_df):\n",
    "    fig, ax = plt.subplots(figsize=(12,8))\n",
    "    nyc_img = plt.imread('./New_York_City_Map.PNG')\n",
    "    ax.imshow(nyc_img, zorder=0, extent=[-74.258, -73.7, 40.49,40.92])\n",
    "    ax.scatter(??, s=1)\n",
    "    plt.show()\n",
    "\n",
    "plot_map(all_pois_df)"
   ]
  },
  {
   "cell_type": "markdown",
   "metadata": {},
   "source": [
    "**c) Filter only POIS in NY municipality**\n",
    "- Plot the result on a map"
   ]
  },
  {
   "cell_type": "code",
   "execution_count": null,
   "metadata": {},
   "outputs": [],
   "source": [
    "# Read \"./data/ny_municipality_pois_id.csv\"\n",
    "ny_pois_ids = pd.read_csv(\"ny_municipality_pois_id.csv\", header=None)[0]"
   ]
  },
  {
   "cell_type": "code",
   "execution_count": null,
   "metadata": {},
   "outputs": [],
   "source": [
    "pois_df = ??"
   ]
  },
  {
   "cell_type": "code",
   "execution_count": null,
   "metadata": {},
   "outputs": [],
   "source": [
    "plot_map(pois_df)"
   ]
  },
  {
   "cell_type": "markdown",
   "metadata": {},
   "source": [
    "**d) Count top-frequent public_transport types**"
   ]
  },
  {
   "cell_type": "code",
   "execution_count": null,
   "metadata": {},
   "outputs": [],
   "source": [
    "top_freq = ??\n",
    "top_freq"
   ]
  },
  {
   "cell_type": "markdown",
   "metadata": {},
   "source": [
    "**e) Plot POIs with the two most frequent public transport types**"
   ]
  },
  {
   "cell_type": "code",
   "execution_count": null,
   "metadata": {},
   "outputs": [],
   "source": [
    "## Plot POIs on the map\n",
    "fig, ax = plt.subplots(figsize=(12,8))\n",
    "nyc_img = plt.imread('./New_York_City_Map.PNG')\n",
    "ax.imshow(nyc_img, zorder=0, extent=[-74.258, -73.7, 40.49,40.92])\n",
    "\n",
    "\n",
    "## TODO:\n",
    "\n",
    "plt.legend()\n",
    "plt.show()"
   ]
  }
 ],
 "metadata": {
  "kernelspec": {
   "display_name": "Python 3",
   "language": "python",
   "name": "python3"
  },
  "language_info": {
   "codemirror_mode": {
    "name": "ipython",
    "version": 3
   },
   "file_extension": ".py",
   "mimetype": "text/x-python",
   "name": "python",
   "nbconvert_exporter": "python",
   "pygments_lexer": "ipython3",
   "version": "3.8.5"
  }
 },
 "nbformat": 4,
 "nbformat_minor": 2
}
