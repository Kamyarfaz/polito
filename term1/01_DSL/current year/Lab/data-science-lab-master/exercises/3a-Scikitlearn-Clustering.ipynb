{
 "cells": [
  {
   "cell_type": "code",
   "execution_count": null,
   "metadata": {},
   "outputs": [],
   "source": [
    "%matplotlib inline\n",
    "import matplotlib.pyplot as plt\n",
    "import numpy as np\n",
    "\n",
    "from sklearn.cluster import KMeans, DBSCAN, AgglomerativeClustering\n",
    "from sklearn.metrics import silhouette_score, adjusted_rand_score"
   ]
  },
  {
   "cell_type": "markdown",
   "metadata": {},
   "source": [
    "# Clustering with Scikit-learn\n",
    "# 1. Moons dataset"
   ]
  },
  {
   "cell_type": "code",
   "execution_count": null,
   "metadata": {
    "scrolled": false
   },
   "outputs": [],
   "source": [
    "X = np.loadtxt('X.csv')\n",
    "\n",
    "fig, ax = plt.subplots(figsize=(8,5))\n",
    "ax.scatter(??, ??, s=10)\n",
    "plt.show()"
   ]
  },
  {
   "cell_type": "markdown",
   "metadata": {},
   "source": [
    "## 1.1 Hierarchical clustering  with moons dataset\n",
    "**1.1.a TODO**\n",
    "- Agglomerative clustering: average and single linkage\n",
    "- Dendrogram cut: k=2 clusters"
   ]
  },
  {
   "cell_type": "code",
   "execution_count": null,
   "metadata": {},
   "outputs": [],
   "source": [
    "# Run clustering\n",
    "model_avg = ??\n",
    "model_single = ??\n",
    "res_avg = ??\n",
    "res_single = ??"
   ]
  },
  {
   "cell_type": "markdown",
   "metadata": {},
   "source": [
    "** 1.1.b Analysis **\n",
    "\n",
    "**Average linkage between two clusters P, Q:**\n",
    "\n",
    "$dist(P, Q) = avg(dist(p_i, q_j)) \\quad | \\quad p_i \\in P, q_j \\in Q$\n",
    "- Tends to generate **globular** clusters\n",
    "\n",
    "**Single linkage between two clusters P, Q:**\n",
    "\n",
    "$dist(P, Q) = min(dist(p_i, q_j)) \\quad | \\quad p_i \\in P, q_j \\in Q$\n",
    "- Also for non-globular clusters\n",
    "- Tends to be affected by **noise**"
   ]
  },
  {
   "cell_type": "code",
   "execution_count": null,
   "metadata": {
    "scrolled": true
   },
   "outputs": [],
   "source": [
    "# Show results\n",
    "fig, ax = plt.subplots(1, 2, figsize=[12,5])\n",
    "ax[0].set_title(\"Average linkage\")\n",
    "ax[1].set_title(\"Single linkage\")\n",
    "ax[0].scatter(X[:,0], X[:,1], s=10, c=??)\n",
    "ax[1].scatter(X[:,0], X[:,1], s=10, c=??)\n",
    "plt.show()"
   ]
  },
  {
   "cell_type": "markdown",
   "metadata": {},
   "source": [
    "**1.1.b TODO**\n",
    "Evaluation: compute silhouette and adjusted rand score\n",
    "- **Silhouette**: internal metric, measures inter-cluster **separation** and cluster **cohesion**\n",
    "- **Adjusted rand score**: external metric (needs ground truth labels)"
   ]
  },
  {
   "cell_type": "code",
   "execution_count": null,
   "metadata": {},
   "outputs": [],
   "source": [
    "# Ground truth labels\n",
    "y_truth = np.loadtxt('y.csv')\n",
    "\n",
    "# Compute silhouette\n",
    "silh_avg = ??\n",
    "silh_single = ??\n",
    "# Compute ARS\n",
    "ars_avg = ??\n",
    "ars_single = ??"
   ]
  },
  {
   "cell_type": "code",
   "execution_count": null,
   "metadata": {},
   "outputs": [],
   "source": [
    "# Show results\n",
    "fig, ax = plt.subplots(figsize=(5,3))\n",
    "w=0.2\n",
    "ax.bar([0-w/2, 1-w/2], [silh_avg, silh_single], width=w, label='silhouette')\n",
    "ax.bar([0+w/2, 1+w/2], [ars_avg, ars_single], width=w, label='ARS')\n",
    "ax.set_ylabel(\"Score\")\n",
    "ax.set_xticks([0, 1])\n",
    "ax.set_xticklabels(['Average linkage','Single linkage'])\n",
    "ax.legend()\n",
    "plt.show()"
   ]
  },
  {
   "cell_type": "markdown",
   "metadata": {},
   "source": [
    "**1.1.c Why is silhouette lower for single linkage?**\n",
    "\n",
    "<img src=\"./ClusterSilhouette.png\" width=\"80%\" style=\"float:left\">"
   ]
  },
  {
   "cell_type": "markdown",
   "metadata": {},
   "source": [
    "# 2. Noisy moons dataset"
   ]
  },
  {
   "cell_type": "code",
   "execution_count": null,
   "metadata": {},
   "outputs": [],
   "source": [
    "X_noise = np.loadtxt('X_noise.csv')\n",
    "\n",
    "fig, ax = plt.subplots(figsize=(8,5))\n",
    "ax.scatter(X_noise[:,0], X_noise[:,1], s=10)\n",
    "plt.show()"
   ]
  },
  {
   "cell_type": "markdown",
   "metadata": {},
   "source": [
    "## 2.2 Hierarchical clustering with noisy dataset"
   ]
  },
  {
   "cell_type": "code",
   "execution_count": null,
   "metadata": {},
   "outputs": [],
   "source": [
    "# Run clustering\n",
    "model_s2 = AgglomerativeClustering(2, linkage='single')\n",
    "model_s50 = AgglomerativeClustering(50, linkage='single')\n",
    "res_s2 = model_s2.fit_predict(X_noise)\n",
    "res_s50 = model_s50.fit_predict(X_noise)"
   ]
  },
  {
   "cell_type": "code",
   "execution_count": null,
   "metadata": {},
   "outputs": [],
   "source": [
    "# Show results\n",
    "fig, ax = plt.subplots(1, 2, figsize=(12,5))\n",
    "ax[0].set_title(\"Single linkage. K=2\")\n",
    "ax[1].set_title(\"Single linkage. K=50\")\n",
    "ax[0].scatter(X_noise[:,0], X_noise[:,1], s=10, c=res_s2)\n",
    "ax[1].scatter(X_noise[:,0], X_noise[:,1], s=10, c=res_s50, cmap='tab20')\n",
    "plt.show()"
   ]
  },
  {
   "cell_type": "markdown",
   "metadata": {},
   "source": [
    "** 2.2.a Analysis **\n",
    "- K=2: the two moons are connected by noise points\n",
    "- K=10: moons are separated, but all noise points go in many different clusters"
   ]
  },
  {
   "cell_type": "markdown",
   "metadata": {},
   "source": [
    "## 2.3 DBSCAN with noisy dataset\n",
    "**2.3.a TODO **\n",
    "To select eps and min_points we need the **K-Neighbors chart**\n",
    "\n",
    "1. Fix k = min_points. E.g. k = 3\n",
    "2. For each point $P_i$:\n",
    "    - Compute the distance with all other points. E.g. [0.6, 0.7, 0.1, 0.5, 0.4]\n",
    "    - Sort the distances (ascending). E.g. [0.1, 0.4, 0.5, 0.6, 0.7]\n",
    "    - Take the distance of the $k^{th}$ nearest point. E.g. 0.5\n",
    "\n",
    "Build a chart:\n",
    "- x axis: list of points $P_i$\n",
    "- y axis: distance between $P_i$ and the K-th (k=min_points) point\n",
    "\n",
    "\n",
    "Example:\n",
    "\n",
    "<table>\n",
    "<tr>\n",
    "<th>\n",
    "<img src=\"./KNN_plot_details.png\" width=\"80%\">\n",
    "</th><th>\n",
    "<img src=\"./KNN_plot.png\" width=\"90%\">\n",
    "</th></tr>\n",
    "</table>"
   ]
  },
  {
   "cell_type": "code",
   "execution_count": null,
   "metadata": {},
   "outputs": [],
   "source": [
    "from sklearn.neighbors import NearestNeighbors\n",
    "\n",
    "# Given matrix X and min_npoints, plot K-Neighbors chart\n",
    "# It also plots a horizontal line in correspondence to eps value\n",
    "def plot_neighbors(X, min_points, eps=0):\n",
    "    nbrs = NearestNeighbors(n_neighbors=??).fit(X)\n",
    "    distances, indices = nbrs.kneighbors(X)\n",
    "\n",
    "    k_dist = ??\n",
    "    x_axis = ??\n",
    "\n",
    "    # Activate interactive plots\n",
    "    %matplotlib notebook\n",
    "\n",
    "    fig, ax = plt.subplots()\n",
    "    ax.plot(x_axis, k_dist, linestyle='', marker='o', markersize=1)\n",
    "    \n",
    "    # Plot a horizontal line in correspondence to eps value\n",
    "    ax.hlines(eps, x_axis.min(), x_axis.max(), linestyle='--')\n",
    "    ax.set_title(f\"K-Neighbors chart. Min_points = {min_points}, eps={eps}.\")\n",
    "    plt.show()"
   ]
  },
  {
   "cell_type": "code",
   "execution_count": null,
   "metadata": {
    "scrolled": false
   },
   "outputs": [],
   "source": [
    "# Plot charts\n",
    "plot_neighbors(X_noise, 10, eps=0)"
   ]
  },
  {
   "cell_type": "code",
   "execution_count": null,
   "metadata": {},
   "outputs": [],
   "source": [
    "plot_neighbors(X_noise, 20, 0)"
   ]
  },
  {
   "cell_type": "code",
   "execution_count": null,
   "metadata": {},
   "outputs": [],
   "source": [
    "# Run clustering\n",
    "model_db10 = DBSCAN(eps = ??, min_samples=10)\n",
    "model_db20 = DBSCAN(eps = ??, min_samples=20)\n",
    "res_db10 = model_db10.fit_predict(X_noise)\n",
    "res_db20 = model_db20.fit_predict(X_noise)\n",
    "\n",
    "# Show results\n",
    "%matplotlib inline\n",
    "fig, ax = plt.subplots(1, 2, figsize=(12, 5))\n",
    "ax[0].set_title(\"DBSCAN, minpoints 10\")\n",
    "ax[1].set_title(\"DBSCAN, minpoints 20\")\n",
    "ax[0].scatter(X_noise[:,0], X_noise[:,1], s=10, c=res_db10)\n",
    "ax[1].scatter(X_noise[:,0], X_noise[:,1], s=10, c=res_db20)\n",
    "plt.show()"
   ]
  },
  {
   "cell_type": "markdown",
   "metadata": {},
   "source": [
    "# 3 Multiple-density dataset"
   ]
  },
  {
   "cell_type": "code",
   "execution_count": null,
   "metadata": {},
   "outputs": [],
   "source": [
    "X_density = np.loadtxt('X_density.csv')\n",
    "\n",
    "fig, ax = plt.subplots(figsize=(8,5))\n",
    "ax.scatter(X_density[:,0], X_density[:,1], s=10)\n",
    "plt.show()"
   ]
  },
  {
   "cell_type": "markdown",
   "metadata": {},
   "source": [
    "## 3.1.a DBSCAN with multiple densities"
   ]
  },
  {
   "cell_type": "code",
   "execution_count": null,
   "metadata": {},
   "outputs": [],
   "source": [
    "# Run clustering\n",
    "model_db09 = DBSCAN(eps = 0.09, min_samples=10)\n",
    "model_db04 = DBSCAN(eps = 0.4, min_samples=10)\n",
    "res_db09 = model_db09.fit_predict(X_density)\n",
    "res_db04 = model_db04.fit_predict(X_density)\n",
    "\n",
    "# Show results\n",
    "%matplotlib inline\n",
    "fig, ax = plt.subplots(1, 2, figsize=(15,5))\n",
    "ax[0].set_title(\"DBSCAN, eps=0.09\")\n",
    "ax[1].set_title(\"DBSCAN, eps=0.4\")\n",
    "ax[0].scatter(X_density[:,0], X_density[:,1], s=10, c=res_db09)\n",
    "ax[1].scatter(X_density[:,0], X_density[:,1], s=10, c=res_db04)\n",
    "plt.show()"
   ]
  },
  {
   "cell_type": "markdown",
   "metadata": {},
   "source": [
    "## 3.1.b Analyze DBSCAN noise\n",
    "- Consider cluster results from res_db09"
   ]
  },
  {
   "cell_type": "code",
   "execution_count": null,
   "metadata": {
    "scrolled": false
   },
   "outputs": [],
   "source": [
    "X_noise_points = ??\n",
    "\n",
    "# Show results\n",
    "%matplotlib inline\n",
    "fig, ax = plt.subplots(figsize=(8,5))\n",
    "ax.scatter(X_noise_points[:,0], X_noise_points[:,1], s=10)\n",
    "plt.show()"
   ]
  },
  {
   "cell_type": "code",
   "execution_count": null,
   "metadata": {},
   "outputs": [],
   "source": [
    "plot_neighbors(X_noise_points, 10, eps=0.45)"
   ]
  },
  {
   "cell_type": "markdown",
   "metadata": {},
   "source": [
    "## 3.1.c Multiple-level DBSCAN\n",
    "** TODO **\n",
    "- Consider c_level1 = res_db09 (DBSCAN eps=0.09, min_points = 10)\n",
    "- Generate c_level2 by clustering noise from c_level1 with eps = 0.45 and min_points = 10\n",
    "- Generate c_final by composing c_level1 and c_level2\n",
    "\n",
    "E.g.\n",
    "```\n",
    "c_level1 = [-1, 1, 0, -1, -1, -1, 0]\n",
    "c_level2 = [0,         1,  0, -1   ]\n",
    "\n",
    "Level1 and level2 contain clusters with the same names.\n",
    "We should avoid name conflicts in c_final.\n",
    "\n",
    "Rename Level1 clusters (except from noise) by adding (c_level2.max() + 1).\n",
    "c_level1_renamed = [    3, 2,             2]\n",
    "\n",
    "Merge the results:\n",
    "c_level1 = [    3, 2,             2]\n",
    "c_level2 = [0,         1,  0, -1   ]\n",
    "c_final =  [0,  3, 2,  1,  0, -1, 2] \n",
    "```"
   ]
  },
  {
   "cell_type": "code",
   "execution_count": null,
   "metadata": {
    "scrolled": true
   },
   "outputs": [],
   "source": [
    "c_level1 = ??\n",
    "c_level2 = ??\n",
    "\n",
    "c_final = ??"
   ]
  },
  {
   "cell_type": "code",
   "execution_count": null,
   "metadata": {},
   "outputs": [],
   "source": [
    "# Show results\n",
    "%matplotlib inline\n",
    "fig, ax = plt.subplots(figsize=(10,5))\n",
    "ax.scatter(X_density[:,0], X_density[:,1], s=10, c=c_final)\n",
    "plt.show()"
   ]
  },
  {
   "cell_type": "markdown",
   "metadata": {},
   "source": [
    "# 4. Lines dataset"
   ]
  },
  {
   "cell_type": "code",
   "execution_count": null,
   "metadata": {},
   "outputs": [],
   "source": [
    "X_lines = np.loadtxt('X_lines.csv')\n",
    "y_lines = np.loadtxt('y_lines.csv')\n",
    "\n",
    "fig, ax = plt.subplots(figsize=(8,5))\n",
    "ax.scatter(X_lines[:,0], X_lines[:,1], c=y_lines)\n",
    "plt.show()"
   ]
  },
  {
   "cell_type": "markdown",
   "metadata": {},
   "source": [
    "## 4.1 KMeans and DBSCAN on Lines dataset"
   ]
  },
  {
   "cell_type": "code",
   "execution_count": null,
   "metadata": {},
   "outputs": [],
   "source": [
    "res_km3 = KMeans(3).fit_predict(X_lines)\n",
    "res_db08 = DBSCAN(eps=0.08, min_samples=10).fit_predict(X_lines)\n",
    "\n",
    "fig, ax = plt.subplots(1, 2, figsize=(10,5))\n",
    "ax[0].scatter(X_lines[:,0], X_lines[:,1], c=res_km3)\n",
    "ax[1].scatter(X_lines[:,0], X_lines[:,1], c=res_db08)\n",
    "plt.show()"
   ]
  },
  {
   "cell_type": "markdown",
   "metadata": {},
   "source": [
    "## 4.1 Data transformation: polar coordinates\n",
    "**TODO**\n",
    "- Apply data transformation to X_lines\n",
    "\n",
    "<br>\n",
    "<img src=\"./polar.png\" width=\"50%\" style=\"float:left\">"
   ]
  },
  {
   "cell_type": "code",
   "execution_count": null,
   "metadata": {
    "scrolled": true
   },
   "outputs": [],
   "source": [
    "rho = ??\n",
    "theta = ??       \n",
    "X_polar = ??"
   ]
  },
  {
   "cell_type": "code",
   "execution_count": null,
   "metadata": {},
   "outputs": [],
   "source": [
    "fig, ax = plt.subplots(figsize=(8,5))\n",
    "ax.scatter(X_polar[:,0], X_polar[:,1])\n",
    "plt.show()"
   ]
  },
  {
   "cell_type": "markdown",
   "metadata": {},
   "source": [
    "## 4.2 Clustering on transformed data"
   ]
  },
  {
   "cell_type": "code",
   "execution_count": null,
   "metadata": {},
   "outputs": [],
   "source": [
    "res_km_polar = KMeans(3).fit_predict(X_polar)    \n",
    "res_db_polar = DBSCAN(eps=0.10, min_samples=5).fit_predict(X_polar)\n",
    "    \n",
    "fig, ax = plt.subplots(1, 2, figsize=(10,5))\n",
    "ax[0].scatter(X_polar[:,0], X_polar[:,1], c=res_km_polar)\n",
    "ax[1].scatter(X_polar[:,0], X_polar[:,1], c=res_db_polar)\n",
    "plt.show()"
   ]
  },
  {
   "cell_type": "markdown",
   "metadata": {},
   "source": [
    "## 4.2.a Plot clusters back on original data"
   ]
  },
  {
   "cell_type": "code",
   "execution_count": null,
   "metadata": {},
   "outputs": [],
   "source": [
    "fig, ax = plt.subplots(figsize=(10,5))\n",
    "ax.scatter(??, ??, c=??)\n",
    "plt.show()"
   ]
  }
 ],
 "metadata": {
  "kernelspec": {
   "display_name": "Python 3",
   "language": "python",
   "name": "python3"
  },
  "language_info": {
   "codemirror_mode": {
    "name": "ipython",
    "version": 3
   },
   "file_extension": ".py",
   "mimetype": "text/x-python",
   "name": "python",
   "nbconvert_exporter": "python",
   "pygments_lexer": "ipython3",
   "version": "3.6.8"
  }
 },
 "nbformat": 4,
 "nbformat_minor": 2
}
