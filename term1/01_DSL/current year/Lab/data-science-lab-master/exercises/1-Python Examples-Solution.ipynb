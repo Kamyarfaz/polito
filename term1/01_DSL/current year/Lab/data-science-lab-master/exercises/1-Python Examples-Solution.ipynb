{
 "cells": [
  {
   "cell_type": "markdown",
   "metadata": {},
   "source": [
    "# Python Examples\n",
    "## 1) Removing list duplicates"
   ]
  },
  {
   "cell_type": "code",
   "execution_count": 1,
   "metadata": {},
   "outputs": [
    {
     "name": "stdout",
     "output_type": "stream",
     "text": [
      "[1, 5, 4, 2, 8, 3]\n"
     ]
    }
   ],
   "source": [
    "# Solution a)\n",
    "input_list = [1, 5, 5, 4, 2, 8, 3, 3]\n",
    "\n",
    "out_list = []\n",
    "for element in input_list:\n",
    "    if element not in out_list:\n",
    "        out_list.append(element)\n",
    "        \n",
    "print(out_list)"
   ]
  },
  {
   "cell_type": "code",
   "execution_count": 2,
   "metadata": {},
   "outputs": [
    {
     "name": "stdout",
     "output_type": "stream",
     "text": [
      "[1, 2, 3, 4, 5, 8]\n"
     ]
    }
   ],
   "source": [
    "# Solution b)\n",
    "input_list = [1, 5, 5, 4, 2, 8, 3, 3]\n",
    "\n",
    "# Order of elements is not preserved\n",
    "out_list = list(set(input_list))\n",
    "        \n",
    "print(out_list)"
   ]
  },
  {
   "cell_type": "markdown",
   "metadata": {},
   "source": [
    "## 2) Euclidean distance between lists\n",
    "$ dist(v1, v2) = \\sqrt{\\sum_i{(v1_i-v2_i)^2}} $"
   ]
  },
  {
   "cell_type": "code",
   "execution_count": 2,
   "metadata": {},
   "outputs": [
    {
     "name": "stdout",
     "output_type": "stream",
     "text": [
      "Distance is 3.00\n"
     ]
    }
   ],
   "source": [
    "# Solution a\n",
    "import math\n",
    "x, y = [1,2,3], [2,4,5]\n",
    "\n",
    "dist = 0\n",
    "for x_el, y_el in zip(x, y):\n",
    "    dist += (x_el-y_el)**2\n",
    "dist = math.sqrt(dist)\n",
    "\n",
    "print(f\"Distance is {dist:.2f}\")"
   ]
  },
  {
   "cell_type": "code",
   "execution_count": 3,
   "metadata": {},
   "outputs": [
    {
     "name": "stdout",
     "output_type": "stream",
     "text": [
      "Distance is 3.00\n"
     ]
    }
   ],
   "source": [
    "# Solution b)\n",
    "x, y = [1,2,3], [2,4,5]\n",
    "\n",
    "dist = sum([(x_el-y_el)**2 for x_el, y_el in zip(x, y)])\n",
    "dist = math.sqrt(dist)\n",
    "\n",
    "print(f\"Distance is {dist:.2f}\")"
   ]
  },
  {
   "cell_type": "markdown",
   "metadata": {},
   "source": [
    "## 3) Classes and lambda functions: rule-based classifier\n",
    "Write a rule based classifier that allows classifying samples based on rules provided by the user.\n",
    "- Each **sample** to be classified is a **dictionary**.\n",
    "- **Rules** specify the output class that should be assigned to the sample based on its dictionary fields\n",
    "- The classifier can take as input **more than one rule**\n",
    "- It should also request with its constructor a **default class** that is assigned when none of the rules apply to the sample\n",
    "\n",
    "**Example of sample:**\n",
    "my_sample = {'temperature' : 20, 'humidity' : 0.8}\n",
    "\n",
    "**Example of rule:**\n",
    "if temperature > 5 and humidity > 0.7 then class = 'Rainy'\n",
    "\n",
    "**Apply the classifier:**\n",
    "my_classifer.classify(my_sample)\n"
   ]
  },
  {
   "cell_type": "code",
   "execution_count": 4,
   "metadata": {},
   "outputs": [],
   "source": [
    "class RuleClassifier:\n",
    "    __rules = []    # Private member of the class\n",
    "    \n",
    "    def __init__(self, default_class):\n",
    "        \"\"\"\n",
    "        Create the rule-based classifier.\n",
    "        :param default_class: default class when no rule applies\n",
    "        \"\"\"\n",
    "        self.__default_class = default_class\n",
    "        \n",
    "    def add_rule(self, rule, output_class):\n",
    "        \"\"\"\n",
    "        Add rule to the classifier.\n",
    "        :param rule: lambda function with the conditions on the input sample\n",
    "        :param output_class: output class to be assigned when the rule is satisfied\n",
    "        \"\"\"\n",
    "        self.__rules.append((rule, output_class))\n",
    "        \n",
    "    def classify(self, x):\n",
    "        \"\"\"\n",
    "        Apply rules to a sample. The first rule that applies specifies the output class.\n",
    "        :param x: dictionary representing the sample to be classified\n",
    "        \"\"\"\n",
    "        for rule, out_class in self.__rules:\n",
    "            if rule(x):\n",
    "                return out_class\n",
    "        return self.__default_class"
   ]
  },
  {
   "cell_type": "markdown",
   "metadata": {},
   "source": [
    "**Example of creation and execution of the classifier:**"
   ]
  },
  {
   "cell_type": "code",
   "execution_count": 5,
   "metadata": {},
   "outputs": [
    {
     "name": "stdout",
     "output_type": "stream",
     "text": [
      "Sunny\n",
      "Rainy\n"
     ]
    }
   ],
   "source": [
    "# Creation\n",
    "rule_clf = RuleClassifier('Sunny')\n",
    "\n",
    "# Add rules\n",
    "rule_clf.add_rule(lambda x: x['temperature']>5 and x['humidity']>0.7, 'Rainy')\n",
    "rule_clf.add_rule(lambda x: x['temperature']<5 and x['humidity']>0.7, 'Snowy')\n",
    "rule_clf.add_rule(lambda x: x['temperature']>25 and x['humidity']>0.8, 'Foggy')\n",
    "\n",
    "# Perform classification\n",
    "print(rule_clf.classify({'temperature' : 30, 'humidity' : 0.4}))\n",
    "print(rule_clf.classify({'temperature' : 15, 'humidity' : 0.8}))"
   ]
  },
  {
   "cell_type": "markdown",
   "metadata": {},
   "source": [
    "## 4) Classes and exception handling: reading csv files\n",
    "Implement a class that reads a csv file with header and allows accessing data by column."
   ]
  },
  {
   "cell_type": "code",
   "execution_count": 1,
   "metadata": {},
   "outputs": [],
   "source": [
    "class Table:\n",
    "    def __init__(self, file_path):\n",
    "        # Step 1: {'ID': [], 'Name': [] ... }\n",
    "        # Step 2: {'ID': ['1', '2', '3'], 'Name': ['John', 'Alicia', 'Sam'] ... }\n",
    "        \n",
    "        with open(file_path, 'r') as f:\n",
    "            header = f.readline().strip().split(',')   # Split header fields\n",
    "                \n",
    "            # Add an empty list for each table column\n",
    "            self.__columns = {col : [] for col in header}\n",
    "\n",
    "            for line in f:\n",
    "                # Split line fields and fill the different columns\n",
    "                for value, column in zip(line.strip().split(','), header):\n",
    "                    self.__columns[column].append(value) \n",
    "    \n",
    "    def get_column(self, column_name):\n",
    "        \"\"\"\n",
    "        :param column_name: name of the column to be returned.\n",
    "        \"\"\"\n",
    "        return self.__columns[column_name]"
   ]
  },
  {
   "cell_type": "code",
   "execution_count": 2,
   "metadata": {},
   "outputs": [
    {
     "name": "stdout",
     "output_type": "stream",
     "text": [
      "['John', 'Alicia', 'Sam']\n"
     ]
    }
   ],
   "source": [
    "try:\n",
    "    table = Table('./TableExample.csv')\n",
    "    print(table.get_column('Name'))\n",
    "except:\n",
    "    print(\"Error while loading table\")"
   ]
  }
 ],
 "metadata": {
  "kernelspec": {
   "display_name": "Python 3",
   "language": "python",
   "name": "python3"
  },
  "language_info": {
   "codemirror_mode": {
    "name": "ipython",
    "version": 3
   },
   "file_extension": ".py",
   "mimetype": "text/x-python",
   "name": "python",
   "nbconvert_exporter": "python",
   "pygments_lexer": "ipython3",
   "version": "3.8.5"
  }
 },
 "nbformat": 4,
 "nbformat_minor": 2
}
