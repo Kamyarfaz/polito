{
 "cells": [
  {
   "cell_type": "code",
   "execution_count": null,
   "metadata": {},
   "outputs": [],
   "source": [
    "%matplotlib inline\n",
    "import matplotlib.pyplot as plt\n",
    "import numpy as np"
   ]
  },
  {
   "cell_type": "markdown",
   "metadata": {},
   "source": [
    "# 1. Simple linear regression\n",
    "## 1.1 Generating a dataset"
   ]
  },
  {
   "cell_type": "code",
   "execution_count": null,
   "metadata": {
    "scrolled": false
   },
   "outputs": [],
   "source": [
    "# Make dataset\n",
    "x_train = 10*np.random.rand(100)         # 100 data points in [0, 10]\n",
    "\n",
    "noise = np.random.normal(0,1, 100)       # gaussian data, mean=0, std=1\n",
    "y_train = (2*x_train + 8) + noise        # target is a linear function of the input with some noise"
   ]
  },
  {
   "cell_type": "code",
   "execution_count": null,
   "metadata": {},
   "outputs": [],
   "source": [
    "# Plots\n",
    "fig, ax = plt.subplots()\n",
    "ax.scatter(x_train, y_train, s=10, c='grey')"
   ]
  },
  {
   "cell_type": "markdown",
   "metadata": {},
   "source": [
    "## 1.2 Training and fitting a regression model"
   ]
  },
  {
   "cell_type": "code",
   "execution_count": null,
   "metadata": {
    "scrolled": true
   },
   "outputs": [],
   "source": [
    "from sklearn.linear_model import LinearRegression\n",
    "\n",
    "# Instantiate and train regressor `reg`\n",
    "# <your code here>\n",
    "# reg = ...\n",
    "\n",
    "# Predict for 50 equally spaced values in [0, 10]\n",
    "x_test = np.linspace(0, 10, 50)\n",
    "# Use the regressor to predict the y for x_test\n",
    "# <your code here>\n",
    "# y_test = ...\n",
    "\n",
    "# Plots\n",
    "fig, ax = plt.subplots()\n",
    "ax.scatter(x_train, y_train, s=10, c='grey') # display points\n",
    "ax.plot(x_test, y_test) # display linear model"
   ]
  },
  {
   "cell_type": "markdown",
   "metadata": {},
   "source": [
    "## 1.3 Evaluating regression\n",
    "\n",
    "Use cross-validation with k=3 folds to evaluate a linear regressor.\n",
    "\n",
    "Evaluate the results with R2 score, mean absolute error and mean squared error.\n",
    "\n",
    "Use both `cross_val_score` and `cross_val_predict`"
   ]
  },
  {
   "cell_type": "code",
   "execution_count": null,
   "metadata": {
    "scrolled": true
   },
   "outputs": [],
   "source": [
    "from sklearn.model_selection import cross_val_score, cross_val_predict\n",
    "from sklearn.metrics import r2_score, mean_squared_error, mean_absolute_error\n",
    "\n",
    "reg = LinearRegression()\n",
    "# cross-validate `reg` using (x_train, y_train) \n",
    "# and 3-fold cross-validation. \n",
    "# Use the following metrics:\n",
    "# r2, mae, mse (mae and mse should)"
   ]
  },
  {
   "cell_type": "markdown",
   "metadata": {},
   "source": [
    "# 2. Linear regression with multiple input features"
   ]
  },
  {
   "cell_type": "markdown",
   "metadata": {},
   "source": [
    "## 2.1 Generating a dataset"
   ]
  },
  {
   "cell_type": "code",
   "execution_count": null,
   "metadata": {},
   "outputs": [],
   "source": [
    "# Make dataset\n",
    "X_train = 10*np.random.rand(1000, 2)    # 1000 data points, 2 features (x0, x1) in the range [0, 10]\n",
    "\n",
    "noise = np.random.normal(0,2, 1000)     # 1000 points from gaussian, mean=0, std=2\n",
    "y_train = (-2*X_train[:,0] + 3*X_train[:,1]  - 4) + noise"
   ]
  },
  {
   "cell_type": "code",
   "execution_count": null,
   "metadata": {},
   "outputs": [],
   "source": [
    "# Plots\n",
    "from mpl_toolkits.mplot3d import Axes3D\n",
    "fig = plt.figure(figsize=(5,5))\n",
    "ax = fig.add_subplot(111, projection='3d')\n",
    "ax.scatter(X_train[:,0], X_train[:,1], y_train, s=10, c=y_train)\n",
    "ax.set_xlabel('x0')\n",
    "ax.set_ylabel('x1')\n",
    "ax.set_zlabel('y')"
   ]
  },
  {
   "cell_type": "markdown",
   "metadata": {},
   "source": [
    "## 2.2 Training and fitting a regression model"
   ]
  },
  {
   "cell_type": "code",
   "execution_count": null,
   "metadata": {
    "scrolled": true
   },
   "outputs": [],
   "source": [
    "# Train regression\n",
    "reg = LinearRegression()\n",
    "reg.fit(X_train, y_train)\n",
    "\n",
    "# Make a grid of 50 equally spaced values\n",
    "values = np.linspace(0,1,50)\n",
    "X_test = np.array([[x0, x1] for x0 in values for x1 in values])\n",
    "# Predict values on the grid\n",
    "y_test = reg.predict(X_test)\n",
    "\n",
    "# Plot\n",
    "fig = plt.figure(figsize=(5,5))\n",
    "ax = fig.add_subplot(111, projection='3d')\n",
    "ax.scatter(X_test[:,0], X_test[:,1], y_test, s=10, c=y_test)\n",
    "ax.set_xlabel('x0')\n",
    "ax.set_ylabel('x1')\n",
    "ax.set_zlabel('y')"
   ]
  },
  {
   "cell_type": "markdown",
   "metadata": {},
   "source": [
    "## 2.3 Display the coefficients and the bias (intercept) terms learned by the regressor"
   ]
  },
  {
   "cell_type": "code",
   "execution_count": null,
   "metadata": {},
   "outputs": [],
   "source": []
  }
 ],
 "metadata": {
  "kernelspec": {
   "display_name": "Python 3",
   "language": "python",
   "name": "python3"
  },
  "language_info": {
   "codemirror_mode": {
    "name": "ipython",
    "version": 3
   },
   "file_extension": ".py",
   "mimetype": "text/x-python",
   "name": "python",
   "nbconvert_exporter": "python",
   "pygments_lexer": "ipython3",
   "version": "3.8.5"
  }
 },
 "nbformat": 4,
 "nbformat_minor": 2
}
