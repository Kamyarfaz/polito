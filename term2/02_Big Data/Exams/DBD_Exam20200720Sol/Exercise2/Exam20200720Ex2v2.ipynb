{
 "cells": [
  {
   "cell_type": "code",
   "execution_count": null,
   "metadata": {},
   "outputs": [],
   "source": [
    "# Exam 2020/06/27 - Exercise #2 - Version #2"
   ]
  },
  {
   "cell_type": "code",
   "execution_count": null,
   "metadata": {},
   "outputs": [],
   "source": [
    "# Input data and output folders\n",
    "inputPathPurchases = \"exam_ex2_data/Purchases.txt\"\n",
    "outputPathPart1 = \"outPart1v2/\"\n",
    "outputPathPart2 = \"outPart2v2/\"\n",
    "\n",
    "# Write your code here"
   ]
  },
  {
   "cell_type": "code",
   "execution_count": null,
   "metadata": {},
   "outputs": [],
   "source": [
    "# *****************************************\n",
    "# Exercise 2 - Part 1\n",
    "# *****************************************"
   ]
  },
  {
   "cell_type": "code",
   "execution_count": null,
   "metadata": {},
   "outputs": [],
   "source": [
    "# Read the content of Purchases.txt\n",
    "purchasesRDD = sc.textFile(inputPathPurchases).cache()"
   ]
  },
  {
   "cell_type": "code",
   "execution_count": null,
   "metadata": {},
   "outputs": [],
   "source": [
    "# Select only the purchases related to years 2019\n",
    "# MID,CustomerId,Date,Price\n",
    "def year2019(line):\n",
    "    fields = line.split(\",\")\n",
    "    \n",
    "    date = fields[2]\n",
    "   \n",
    "    if (date.startswith(\"2019\")):\n",
    "        return True\n",
    "    else:\n",
    "        return False\n",
    "    \n",
    "selectedPurchasesRDD = purchasesRDD.filter(year2019)    "
   ]
  },
  {
   "cell_type": "code",
   "execution_count": null,
   "metadata": {},
   "outputs": [],
   "source": [
    "# Compute the income for each MID  "
   ]
  },
  {
   "cell_type": "code",
   "execution_count": null,
   "metadata": {},
   "outputs": [],
   "source": [
    "# Extract pairs (BID,price)\n",
    "# Map each input line to a pair\n",
    "# key = MID\n",
    "# value = price\n",
    "\n",
    "def pairMIDPrice(line):\n",
    "    # MID,CustomerId,Date,Price\n",
    "    fields = line.split(\",\")\n",
    "    mid = fields[0]\n",
    "    price = float(fields[3])\n",
    "    \n",
    "    return (mid, price)\n",
    "    \n",
    "midsPricesRDD = selectedPurchasesRDD.map(pairMIDPrice)"
   ]
  },
  {
   "cell_type": "code",
   "execution_count": null,
   "metadata": {},
   "outputs": [],
   "source": [
    "# Apply reduceByKey to compute the (annual) income for each MID  \n",
    "midsIncomesRDD = midsPricesRDD.reduceByKey(lambda p1, p2: p1+p2).cache()"
   ]
  },
  {
   "cell_type": "code",
   "execution_count": null,
   "metadata": {},
   "outputs": [],
   "source": [
    "# Select the maximum income in year 2019"
   ]
  },
  {
   "cell_type": "code",
   "execution_count": null,
   "metadata": {},
   "outputs": [],
   "source": [
    "# Select only the annual incomes\n",
    "incomesRDD = midsIncomesRDD.values()"
   ]
  },
  {
   "cell_type": "code",
   "execution_count": null,
   "metadata": {},
   "outputs": [],
   "source": [
    "# Compute the maximum annual income\n",
    "maxAnnualIncome = incomesRDD.reduce(lambda income1, income2: max(income1, income2))"
   ]
  },
  {
   "cell_type": "code",
   "execution_count": null,
   "metadata": {},
   "outputs": [],
   "source": [
    "# Select the MIDs associated with the highest annual income in 2019\n",
    "selectedMidsRDD = midsIncomesRDD.filter(lambda pair: pair[1]==maxAnnualIncome)"
   ]
  },
  {
   "cell_type": "code",
   "execution_count": null,
   "metadata": {},
   "outputs": [],
   "source": [
    "# Store the result\n",
    "selectedMidsRDD.keys().saveAsTextFile(outputPathPart1)"
   ]
  },
  {
   "cell_type": "code",
   "execution_count": null,
   "metadata": {},
   "outputs": [],
   "source": [
    "# *****************************************\n",
    "# Exercise 2 - Part 2\n",
    "# *****************************************"
   ]
  },
  {
   "cell_type": "code",
   "execution_count": null,
   "metadata": {},
   "outputs": [],
   "source": [
    "# Select the purchases of the last ten years (i.e., from year 2010 to year 2019) \n",
    "# MID,CustomerId,Date,Price\n",
    "def year20102019(line):\n",
    "    fields = line.split(\",\")\n",
    "    \n",
    "    date = fields[2]\n",
    "    year = int(date.split(\"/\")[0])\n",
    "   \n",
    "    if (year>=2010 and year<=2019):\n",
    "        return True\n",
    "    else:\n",
    "        return False\n",
    "    \n",
    "selectedPurchases1019RDD = purchasesRDD.filter(year20102019)    "
   ]
  },
  {
   "cell_type": "code",
   "execution_count": null,
   "metadata": {},
   "outputs": [],
   "source": [
    "# Compute the number of purchases for each MID in each year"
   ]
  },
  {
   "cell_type": "code",
   "execution_count": null,
   "metadata": {},
   "outputs": [],
   "source": [
    "# Extract pairs (MID+year,+1)\n",
    "# Map each input line to a pair\n",
    "# key = (MID,year)\n",
    "# value = +1\n",
    "\n",
    "def pairMidYearOne(line):\n",
    "    # MID,CustomerId,Date,Price\n",
    "    fields = line.split(\",\")\n",
    "    mid = fields[0]\n",
    "    date = fields[2]\n",
    "    year = int(date.split(\"/\")[0])\n",
    "   \n",
    "    return ( (mid, year), 1)\n",
    "    \n",
    "midYearOneRDD = selectedPurchases1019RDD.map(pairMidYearOne)"
   ]
  },
  {
   "cell_type": "code",
   "execution_count": null,
   "metadata": {},
   "outputs": [],
   "source": [
    "# Apply reduceByKey to compute the annual number of purchases for each MID in each year  \n",
    "midYearNumPurchasesRDD = midYearOneRDD.reduceByKey(lambda p1, p2: p1+p2).cache()"
   ]
  },
  {
   "cell_type": "code",
   "execution_count": null,
   "metadata": {},
   "outputs": [],
   "source": [
    "# Compute the maximum number of purchases (associated with one single model) per year"
   ]
  },
  {
   "cell_type": "code",
   "execution_count": null,
   "metadata": {},
   "outputs": [],
   "source": [
    "# Extract pairs (year,annualPurchasesSingleModel)\n",
    "# Map each input pair a pair\n",
    "# key = year\n",
    "# value = annualPurchasesSingleModel  \n",
    "yearNumPurchasesRDD = midYearNumPurchasesRDD.map(lambda pair: (pair[0][1], pair[1]))"
   ]
  },
  {
   "cell_type": "code",
   "execution_count": null,
   "metadata": {},
   "outputs": [],
   "source": [
    "# Apply reduceByKey to compute the maximum number of purchases (associated with one single model) per year\n",
    "yearMaxNumPurchasesRDD = yearNumPurchasesRDD\\\n",
    ".reduceByKey(lambda numPurchases1, numPurchases2: max (numPurchases1, numPurchases2))"
   ]
  },
  {
   "cell_type": "code",
   "execution_count": null,
   "metadata": {},
   "outputs": [],
   "source": [
    "# We are managing only 10 years. \n",
    "# Hence, the content of yearMaxNumPurchasesRDD can be stored in a local variable of the Driver\n",
    "yearMaxNumPurchases = yearMaxNumPurchasesRDD.collectAsMap()"
   ]
  },
  {
   "cell_type": "code",
   "execution_count": null,
   "metadata": {},
   "outputs": [],
   "source": [
    "# Select the pairs with \n",
    "# number of annual purchases per MID == maximum number of purchases (per single MID) in that year\n",
    "def maxNumPurchases(pair):\n",
    "    year = pair[0][1]\n",
    "    numPurchases = pair[1]\n",
    "    \n",
    "    if numPurchases==yearMaxNumPurchases[year]:\n",
    "        return True\n",
    "    else:\n",
    "        return False\n",
    "    \n",
    "midsMaxAnnualPurchasesRDD = midYearNumPurchasesRDD.filter(maxNumPurchases)"
   ]
  },
  {
   "cell_type": "code",
   "execution_count": null,
   "metadata": {},
   "outputs": [],
   "source": [
    "# Count for each MID in how many years it is the most purchased model "
   ]
  },
  {
   "cell_type": "code",
   "execution_count": null,
   "metadata": {},
   "outputs": [],
   "source": [
    "# Map each input pair to a new pair\n",
    "# key = MID\n",
    "# value = +1\n",
    "midOneRDD = midsMaxAnnualPurchasesRDD.map(lambda pair: (pair[0][0], 1))"
   ]
  },
  {
   "cell_type": "code",
   "execution_count": null,
   "metadata": {},
   "outputs": [],
   "source": [
    "midNumYearsMostPurchasedRDD = midOneRDD.reduceByKey(lambda v1,v2: v1+v2)"
   ]
  },
  {
   "cell_type": "code",
   "execution_count": null,
   "metadata": {},
   "outputs": [],
   "source": [
    "# Select the MIDs that have been the most purchased smartphone model in at least two years\n",
    "selectedMIDsRDD = midNumYearsMostPurchasedRDD.filter(lambda pair: pair[1]>=2)"
   ]
  },
  {
   "cell_type": "code",
   "execution_count": null,
   "metadata": {},
   "outputs": [],
   "source": [
    "# Store the selected MIDs\n",
    "selectedMIDsRDD.keys().saveAsTextFile(outputPathPart2)"
   ]
  },
  {
   "cell_type": "code",
   "execution_count": null,
   "metadata": {},
   "outputs": [],
   "source": []
  }
 ],
 "metadata": {
  "kernelspec": {
   "display_name": "Python 3",
   "language": "python",
   "name": "python3"
  },
  "language_info": {
   "codemirror_mode": {
    "name": "ipython",
    "version": 3
   },
   "file_extension": ".py",
   "mimetype": "text/x-python",
   "name": "python",
   "nbconvert_exporter": "python",
   "pygments_lexer": "ipython3",
   "version": "3.8.5"
  }
 },
 "nbformat": 4,
 "nbformat_minor": 4
}
