{
 "cells": [
  {
   "cell_type": "code",
   "execution_count": null,
   "metadata": {},
   "outputs": [],
   "source": [
    "usersPath = 'ExampleData/Users.txt'\n",
    "appsPath = 'ExampleData/Apps.txt'\n",
    "actionPath = 'ExampleData/Actions.txt'\n",
    "output1 = 'outPart1/'\n",
    "output2 = 'outPart2/'"
   ]
  },
  {
   "cell_type": "code",
   "execution_count": null,
   "metadata": {},
   "outputs": [],
   "source": [
    "### PART 1\n",
    "actions_rdd = sc.textFile(actionPath).cache()"
   ]
  },
  {
   "cell_type": "code",
   "execution_count": null,
   "metadata": {},
   "outputs": [],
   "source": [
    "#Select install and the year 2022\n",
    "def Install2022(line):\n",
    "    fields = line.split(',')\n",
    "    timestamp = fields[2]\n",
    "    action = fields[3]\n",
    "    \n",
    "    return timestamp.startswith('2022')==True and action=='Install'\n",
    "    \n",
    "\n",
    "actions2022_rdd = actions_rdd.filter(Install2022)"
   ]
  },
  {
   "cell_type": "code",
   "execution_count": null,
   "metadata": {},
   "outputs": [],
   "source": [
    "# Map to (appId, userId) and\n",
    "# remove repeated pairs\n",
    "\n",
    "def appUser(line):\n",
    "    fields = line.split(',')\n",
    "    userId = fields[0]\n",
    "    appId = fields[1]\n",
    "    \n",
    "    return (appId, userId)\n",
    "\n",
    "\n",
    "appUser_rdd = actions2022_rdd.map(appUser)\\\n",
    ".distinct()"
   ]
  },
  {
   "cell_type": "code",
   "execution_count": null,
   "metadata": {},
   "outputs": [],
   "source": [
    "apps_rdd = sc.textFile(appsPath)"
   ]
  },
  {
   "cell_type": "code",
   "execution_count": null,
   "metadata": {},
   "outputs": [],
   "source": [
    "# Map apps to to (appId, Price)\n",
    "def appPrice(line):\n",
    "    fields = line.split(',')\n",
    "    appId = fields[0]\n",
    "    price = float(fields[2])\n",
    "    \n",
    "    return (appId, price)\n",
    "\n",
    "\n",
    "appPrice_rdd = apps_rdd.map(appPrice)"
   ]
  },
  {
   "cell_type": "code",
   "execution_count": null,
   "metadata": {},
   "outputs": [],
   "source": [
    "# Join appPrice_rdd with appUser_rdd\n",
    "joinActionsPrices = appPrice_rdd.join(appUser_rdd)"
   ]
  },
  {
   "cell_type": "code",
   "execution_count": null,
   "metadata": {},
   "outputs": [],
   "source": [
    "# Map each pair to (userId, (free , non-free))\n",
    "def freeNonfree(pair):\n",
    "    price=pair[1][0]\n",
    "    userId=pair[1][1]\n",
    "\n",
    "    if (price>0):\n",
    "        return (userId, (0, 1))\n",
    "    else:\n",
    "        return (userId, (1, 0))\n",
    "    \n",
    "\n",
    "userFreeNonfreeApps_rdd = joinActionsPrices.map(freeNonfree)"
   ]
  },
  {
   "cell_type": "code",
   "execution_count": null,
   "metadata": {},
   "outputs": [],
   "source": [
    "# Count the number of free and non-free apps for each user.\n",
    "# Select the users with more non-free apps than free apps\n",
    "\n",
    "selectedUsersPart1_rdd = userFreeNonfreeApps_rdd.reduceByKey(lambda v1,v2: (v1[0]+v2[0], v1[1]+v2[1]))\\\n",
    ".filter(lambda pair: pair[1][1]>pair[1][0])"
   ]
  },
  {
   "cell_type": "code",
   "execution_count": null,
   "metadata": {},
   "outputs": [],
   "source": [
    "# Keep only userId and number of non-free apps and store the result\n",
    "result1 = selectedUsersPart1_rdd.mapValues(lambda v: v[1])"
   ]
  },
  {
   "cell_type": "code",
   "execution_count": null,
   "metadata": {},
   "outputs": [],
   "source": [
    "#result1.collect()"
   ]
  },
  {
   "cell_type": "code",
   "execution_count": null,
   "metadata": {},
   "outputs": [],
   "source": [
    "result1.saveAsTextFile(output1)"
   ]
  },
  {
   "cell_type": "code",
   "execution_count": null,
   "metadata": {},
   "outputs": [],
   "source": []
  },
  {
   "cell_type": "code",
   "execution_count": null,
   "metadata": {},
   "outputs": [],
   "source": [
    "### PART 2\n",
    "users_rdd = sc.textFile(usersPath)"
   ]
  },
  {
   "cell_type": "code",
   "execution_count": null,
   "metadata": {},
   "outputs": [],
   "source": [
    "# Select Italian users and return pairs (UserId, None) \n",
    "italianUsers_rdd = users_rdd.filter(lambda line: line.split(',')[3]=='Italian')\\\n",
    ".map(lambda line: (line.split(',')[0], None))"
   ]
  },
  {
   "cell_type": "code",
   "execution_count": null,
   "metadata": {},
   "outputs": [],
   "source": [
    "# Map each action to ( userId (appId,timestamp, action))\n",
    "def  extractPair(line):\n",
    "    fields = line.split(',')\n",
    "    userId = fields[0]\n",
    "    appId = fields[1]\n",
    "    timestamp = fields[2]\n",
    "    action = fields[3]\n",
    "    \n",
    "    return ( (userId, (appId, timestamp, action)) )\n",
    "    \n",
    "    \n",
    "usersActions_rdd = actions_rdd.map(extractPair)"
   ]
  },
  {
   "cell_type": "code",
   "execution_count": null,
   "metadata": {},
   "outputs": [],
   "source": [
    "# Join usersActions_rdd with italianUsers_rdd\n",
    "# and select only Italian users\n",
    "italianUsersActions_rdd  = usersActions_rdd.join(italianUsers_rdd)"
   ]
  },
  {
   "cell_type": "code",
   "execution_count": null,
   "metadata": {},
   "outputs": [],
   "source": [
    "#italianUsersActions_rdd.collect()"
   ]
  },
  {
   "cell_type": "code",
   "execution_count": null,
   "metadata": {},
   "outputs": [],
   "source": [
    "# Compute the last action for each combination Italian user+app\n",
    "# Map to ( (userId, appId) , (timestamp, action))\n",
    "# and then compute max timestamp + action\n",
    "\n",
    "def maxTimestamp(time1_action1, time2_action2):\n",
    "    if (time1_action1[0]>time2_action2[0]):\n",
    "        return time1_action1\n",
    "    else:\n",
    "        return time2_action2    \n",
    "\n",
    "usersLasAction_rdd = italianUsersActions_rdd.map(lambda p: ( (p[0], p[1][0][0]), (p[1][0][1], p[1][0][2]) ) )\\\n",
    ".reduceByKey(maxTimestamp)"
   ]
  },
  {
   "cell_type": "code",
   "execution_count": null,
   "metadata": {},
   "outputs": [],
   "source": [
    "#usersLasAction_rdd.collect()"
   ]
  },
  {
   "cell_type": "code",
   "execution_count": null,
   "metadata": {},
   "outputs": [],
   "source": [
    "# Select the apps with last action equal to Install => currently installed app\n",
    "users_installedapps = usersLasAction_rdd.filter(lambda p: p[1][1]=='Install')"
   ]
  },
  {
   "cell_type": "code",
   "execution_count": null,
   "metadata": {},
   "outputs": [],
   "source": [
    "# Count the number of currently installed apps for each user\n",
    "usersNumInstalledapps = users_installedapps.map(lambda p: (p[0][0], +1))\\\n",
    ".reduceByKey(lambda v1,v2: v1+v2).cache()"
   ]
  },
  {
   "cell_type": "code",
   "execution_count": null,
   "metadata": {},
   "outputs": [],
   "source": [
    "# Compute the maximum value of number of installed apps\n",
    "maxInstalledApps = usersNumInstalledapps.values().max()"
   ]
  },
  {
   "cell_type": "code",
   "execution_count": null,
   "metadata": {},
   "outputs": [],
   "source": [
    "# Select the users associated with maxInstalledApps\n",
    "result2 = usersNumInstalledapps.filter(lambda p: p[1]==maxInstalledApps)\\\n",
    ".keys()"
   ]
  },
  {
   "cell_type": "code",
   "execution_count": null,
   "metadata": {},
   "outputs": [],
   "source": [
    "#result2.collect()"
   ]
  },
  {
   "cell_type": "code",
   "execution_count": null,
   "metadata": {},
   "outputs": [],
   "source": [
    "result2.saveAsTextFile(output2)"
   ]
  },
  {
   "cell_type": "code",
   "execution_count": null,
   "metadata": {},
   "outputs": [],
   "source": []
  }
 ],
 "metadata": {
  "interpreter": {
   "hash": "faae1d37b5ada422cb4c6eab0d24ee311a209a82ccd0fec58e8e7d3d976add61"
  },
  "kernelspec": {
   "display_name": "Python 3",
   "language": "python",
   "name": "python3"
  },
  "language_info": {
   "codemirror_mode": {
    "name": "ipython",
    "version": 3
   },
   "file_extension": ".py",
   "mimetype": "text/x-python",
   "name": "python",
   "nbconvert_exporter": "python",
   "pygments_lexer": "ipython3",
   "version": "3.8.10"
  }
 },
 "nbformat": 4,
 "nbformat_minor": 2
}
