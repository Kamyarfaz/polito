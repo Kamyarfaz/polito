{
 "cells": [
  {
   "cell_type": "code",
   "execution_count": null,
   "metadata": {},
   "outputs": [],
   "source": [
    "#from pyspark import SparkContext\n",
    "#from pyspark.sql import SparkSession"
   ]
  },
  {
   "cell_type": "code",
   "execution_count": null,
   "metadata": {},
   "outputs": [],
   "source": [
    "#spark = SparkSession.builder.appName('Exam20210705').getOrCreate()\n",
    "#sc = spark.sparkContext"
   ]
  },
  {
   "cell_type": "code",
   "execution_count": null,
   "metadata": {},
   "outputs": [],
   "source": [
    "items_path = '../exampleData/items.txt'\n",
    "ads_path = '../exampleData/ads_sales.txt'\n",
    "users_path = '../exampleData/users.txt'\n",
    "\n",
    "out1 = 'out1'\n",
    "out2 = 'out2'"
   ]
  },
  {
   "cell_type": "code",
   "execution_count": null,
   "metadata": {},
   "outputs": [],
   "source": [
    "items_rdd = sc.textFile(items_path)\n",
    "ads_rdd = sc.textFile(ads_path)"
   ]
  },
  {
   "cell_type": "code",
   "execution_count": null,
   "metadata": {},
   "outputs": [],
   "source": [
    "### PART 1\n",
    "# filter only the items that were actually purchased\n",
    "purchased_rdd = ads_rdd.filter(lambda line: line.split(',')[3] == 'true').cache()"
   ]
  },
  {
   "cell_type": "code",
   "execution_count": null,
   "metadata": {},
   "outputs": [],
   "source": [
    "def itemid_price(line):\n",
    "    fields = line.split(',')\n",
    "    itemid = fields[2]\n",
    "    price = float(fields[4])\n",
    "    return (itemid, price)\n",
    "\n",
    "# obtain the pair rdd\n",
    "# (itemId, salePrice)\n",
    "sales_price_rdd = purchased_rdd.map(itemid_price)"
   ]
  },
  {
   "cell_type": "code",
   "execution_count": null,
   "metadata": {},
   "outputs": [],
   "source": [
    "def itemid_recomPrice_category(line):\n",
    "    fields = line.split(',')\n",
    "    itemid = fields[0]\n",
    "    recomPrice = float(fields[2])\n",
    "    category = fields[3]\n",
    "\n",
    "    return (itemid, (recomPrice, category))\n",
    "\n",
    "# obtain the pair rdd\n",
    "# (itemId, (recommendedPrice, category))\n",
    "items_category_recomPrice_rdd = items_rdd.map(itemid_recomPrice_category).cache()"
   ]
  },
  {
   "cell_type": "code",
   "execution_count": null,
   "metadata": {},
   "outputs": [],
   "source": [
    "# join the two pair rdds to obtain\n",
    "# (itemId, (salePrice, (recommendedPrice, category)))\n",
    "item_category_prices_rdd = sales_price_rdd.join(items_category_recomPrice_rdd)"
   ]
  },
  {
   "cell_type": "code",
   "execution_count": null,
   "metadata": {},
   "outputs": [],
   "source": [
    "def obtain_counters(item):\n",
    "    itemId = item[0]\n",
    "    sale_price = item[1][0]\n",
    "    recommended_price, category = item[1][1]\n",
    "\n",
    "    numerator = 1 if sale_price > recommended_price else 0\n",
    "    \n",
    "    return ((itemId, category), (numerator, 1))\n",
    "\n",
    "# map each element into a tuple of counters and keep the category field (by moving it into the key):\n",
    "# one counter for numerator (= number of times the item was sold at price > recommendedPrice)\n",
    "# one counter for denominator (total number of times the item was sold)\n",
    "# ((itemId, category), (numerator, denominator))\n",
    "item_counters_category_rdd = item_category_prices_rdd.map(obtain_counters)"
   ]
  },
  {
   "cell_type": "code",
   "execution_count": null,
   "metadata": {},
   "outputs": [],
   "source": [
    "# sum all the counters and compute the percentage\n",
    "# ((itemId, category), percentage)\n",
    "percentage_rdd = item_counters_category_rdd.reduceByKey(lambda v1, v2: (v1[0] + v2[0], v1[1] + v2[1]))\\\n",
    "                                            .mapValues(lambda it: it[0] / it[1])"
   ]
  },
  {
   "cell_type": "code",
   "execution_count": null,
   "metadata": {},
   "outputs": [],
   "source": [
    "# get the result by filtering only those elements with percentage > 90% and keeping only the key part\n",
    "result = percentage_rdd.filter(lambda it: it[1] >= 0.9)\\\n",
    ".keys()"
   ]
  },
  {
   "cell_type": "code",
   "execution_count": null,
   "metadata": {},
   "outputs": [],
   "source": [
    "result.saveAsTextFile(out1)"
   ]
  },
  {
   "cell_type": "code",
   "execution_count": null,
   "metadata": {},
   "outputs": [],
   "source": []
  },
  {
   "cell_type": "code",
   "execution_count": null,
   "metadata": {},
   "outputs": [],
   "source": [
    "### PART 2\n",
    "# use an rdd computed in part 1 containing items with itemId, recommendedPrice and category\n",
    "# and keep only itemId, category\n",
    "# (itemId, (recommendedPrice, category))\n",
    "# ->\n",
    "# (itemId, category)\n",
    "category_per_item_rdd = items_category_recomPrice_rdd.map(lambda it: (it[0], it[1][1]))"
   ]
  },
  {
   "cell_type": "code",
   "execution_count": null,
   "metadata": {},
   "outputs": [],
   "source": [
    "def itemid_profit(line):\n",
    "    fields = line.split(',')\n",
    "    itemid = fields[2]\n",
    "    price = float(fields[4])\n",
    "    return (itemid, price)\n",
    "\n",
    "# map purchased_rdd into an rdd containing itemId and price\n",
    "# Only the lines with purchased equal to true are considered (the others have Price equal to 0 \n",
    "# and hence are useless. For this reason we can use purchased_rdd instaed of ads_rdd)\n",
    "# (itemId, profitPerSingleItem)\n",
    "profits_per_item_rdd = purchased_rdd.map(itemid_profit)"
   ]
  },
  {
   "cell_type": "code",
   "execution_count": null,
   "metadata": {},
   "outputs": [],
   "source": [
    "# compute the total profits for each item\n",
    "# (itemId, profit)\n",
    "total_profits_rdd = profits_per_item_rdd.reduceByKey(lambda v1, v2: v1 + v2)"
   ]
  },
  {
   "cell_type": "code",
   "execution_count": null,
   "metadata": {},
   "outputs": [],
   "source": [
    "# Use left outer join to join the two rdds previously computed to obtain the following pairRDD\n",
    "# (itemId, (category, profit))\n",
    "# note that profit is not defined for all items: for unadvertised items, profit is None\n",
    "unadv_profits_rdd = category_per_item_rdd.leftOuterJoin(total_profits_rdd)"
   ]
  },
  {
   "cell_type": "code",
   "execution_count": null,
   "metadata": {},
   "outputs": [],
   "source": [
    "# keep only unadvertised and low-profit items\n",
    "lowprofits_unadv_items = unadv_profits_rdd.filter(lambda it: it[1][1] is None or it[1][1] <= 100)"
   ]
  },
  {
   "cell_type": "code",
   "execution_count": null,
   "metadata": {},
   "outputs": [],
   "source": [
    "def determine_low_profit_and_unadv(item):\n",
    "    category = item[1][0]\n",
    "    profit = item[1][1]\n",
    "    x = 1 if profit is None else 0\n",
    "    y = 1 if (not profit is None) and profit <= 100 else 0\n",
    "\n",
    "    return (category, (x, y))\n",
    "\n",
    "# map each element into a pair (category, (x, y))\n",
    "# where:\n",
    "# x = 1 if the item is unadvertised, 0 otherwise\n",
    "# y = 1 if the item is low-profit, 0 otherwise\n",
    "# and count for each category the number of unadvertised and low-profits items\n",
    "# (category, (# items unadvertised, # items with low-profits))\n",
    "lowprofits_unadv_per_category = lowprofits_unadv_items.map(determine_low_profit_and_unadv)\\\n",
    "                                                .reduceByKey(lambda v1, v2: (v1[0] + v2[0], v1[1] + v2[1]))"
   ]
  },
  {
   "cell_type": "code",
   "execution_count": null,
   "metadata": {},
   "outputs": [],
   "source": [
    "# filter only those categories with at least 10 low-profit items\n",
    "# and at least 10 unadvertised items\n",
    "result2 = lowprofits_unadv_per_category.filter(lambda it: it[1][0] >= 10 and it[1][1] >= 10)\n",
    "# for testing purposes, set thresholds to 2 instead of 10\n",
    "#result2 = lowprofits_unadv_per_category.filter(lambda it: it[1][0] >= 2 and it[1][1] >= 2) "
   ]
  },
  {
   "cell_type": "code",
   "execution_count": null,
   "metadata": {},
   "outputs": [],
   "source": [
    "result2.saveAsTextFile(out2)"
   ]
  }
 ],
 "metadata": {
  "interpreter": {
   "hash": "faae1d37b5ada422cb4c6eab0d24ee311a209a82ccd0fec58e8e7d3d976add61"
  },
  "kernelspec": {
   "display_name": "Python 3",
   "language": "python",
   "name": "python3"
  },
  "language_info": {
   "codemirror_mode": {
    "name": "ipython",
    "version": 3
   },
   "file_extension": ".py",
   "mimetype": "text/x-python",
   "name": "python",
   "nbconvert_exporter": "python",
   "pygments_lexer": "ipython3",
   "version": "3.8.10"
  }
 },
 "nbformat": 4,
 "nbformat_minor": 2
}
