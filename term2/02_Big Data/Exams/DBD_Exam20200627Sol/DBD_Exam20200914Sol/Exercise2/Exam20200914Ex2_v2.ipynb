{
 "cells": [
  {
   "cell_type": "code",
   "execution_count": null,
   "metadata": {},
   "outputs": [],
   "source": [
    "# Input data and output folders\n",
    "inUsers = \"Users.txt\"\n",
    "inSongs = \"Songs.txt\"\n",
    "inListenToSongs = \"ListenToSongs.txt\"\n",
    "\n",
    "outputPathPart1 = \"outPart1/\"\n",
    "outputPathPart2 = \"outPart2/\""
   ]
  },
  {
   "cell_type": "code",
   "execution_count": null,
   "metadata": {},
   "outputs": [],
   "source": [
    "# Write your code here"
   ]
  },
  {
   "cell_type": "code",
   "execution_count": null,
   "metadata": {},
   "outputs": [],
   "source": [
    "# Part 1"
   ]
  },
  {
   "cell_type": "code",
   "execution_count": null,
   "metadata": {},
   "outputs": [],
   "source": [
    "usersRDD = sc.textFile(inUsers)\n",
    "songsRDD = sc.textFile(inSongs)\n",
    "listenRDD = sc.textFile(inListenToSongs).cache()"
   ]
  },
  {
   "cell_type": "code",
   "execution_count": null,
   "metadata": {},
   "outputs": [],
   "source": [
    "# Select young users\n",
    "youngUsersRDD = usersRDD.filter(lambda line: int(line.split(\",\")[4])>1999)"
   ]
  },
  {
   "cell_type": "code",
   "execution_count": null,
   "metadata": {},
   "outputs": [],
   "source": [
    "# Select the songs listened to in the last two years\n",
    "def lastTwoYears(line):\n",
    "    startTimestamp = line.split(\",\")[2]\n",
    "    if (startTimestamp>=\"2018/09/14\" and startTimestamp<=\"2020/09/13\"):\n",
    "        return True\n",
    "    else:\n",
    "        return False\n",
    "   \n",
    "    \n",
    "listenLast2YearsRDD = listenRDD.filter(lastTwoYears)"
   ]
  },
  {
   "cell_type": "code",
   "execution_count": null,
   "metadata": {},
   "outputs": [],
   "source": [
    "# Select the songs listened to by young users in the last two years"
   ]
  },
  {
   "cell_type": "code",
   "execution_count": null,
   "metadata": {},
   "outputs": [],
   "source": [
    "# Map listenLast2YearsRDD to pairs (UID,SID)\n",
    "def userSong(line):\n",
    "    fields = line.split(\",\")\n",
    "    sid = fields[0]\n",
    "    uid = fields[1]\n",
    "    \n",
    "    return (uid,sid)\n",
    "    \n",
    "userSongTwoYearsRDD = listenLast2YearsRDD.map(userSong)"
   ]
  },
  {
   "cell_type": "code",
   "execution_count": null,
   "metadata": {},
   "outputs": [],
   "source": [
    "# Map youngUsersRDD to pairs (UID,None)\n",
    "def userNone(line):\n",
    "    fields = line.split(\",\")\n",
    "    uid = fields[0]\n",
    "    \n",
    "    return (uid,None)\n",
    "    \n",
    "youngUserPairRDD = youngUsersRDD.map(userNone)"
   ]
  },
  {
   "cell_type": "code",
   "execution_count": null,
   "metadata": {},
   "outputs": [],
   "source": [
    "# Join the content of userSongTwoYearsRDD and youngUserPairRDD to identify the songs listened to by young users in the last two years\n",
    "songsListenedYoungUsersRDD = userSongTwoYearsRDD.join(youngUserPairRDD)"
   ]
  },
  {
   "cell_type": "code",
   "execution_count": null,
   "metadata": {},
   "outputs": [],
   "source": [
    "# Select the SIDs of the songs listened to by young users in the last two years\n",
    "sidListenedYoungUsersRDD = songsListenedYoungUsersRDD.map(lambda pair: pair[1][0])"
   ]
  },
  {
   "cell_type": "code",
   "execution_count": null,
   "metadata": {},
   "outputs": [],
   "source": [
    "# Extract all the possible SIDs from songsRDD\n",
    "allSidsRDD = songsRDD.map(lambda line: line.split(\",\")[0])"
   ]
  },
  {
   "cell_type": "code",
   "execution_count": null,
   "metadata": {},
   "outputs": [],
   "source": [
    "# Select the SIDs of the songs that do not occur in sidListenedYoungUsersRDD\n",
    "selectedSIDsRDD = allSidsRDD.subtract(sidListenedYoungUsersRDD)"
   ]
  },
  {
   "cell_type": "code",
   "execution_count": null,
   "metadata": {},
   "outputs": [],
   "source": [
    "selectedSIDsRDD.saveAsTextFile(outputPathPart1)"
   ]
  },
  {
   "cell_type": "code",
   "execution_count": null,
   "metadata": {},
   "outputs": [],
   "source": []
  },
  {
   "cell_type": "code",
   "execution_count": null,
   "metadata": {},
   "outputs": [],
   "source": [
    "# Part 2"
   ]
  },
  {
   "cell_type": "code",
   "execution_count": null,
   "metadata": {},
   "outputs": [],
   "source": [
    "# Compute for each song its popularity in each year, i.e., the number of distinct users who listened to it in that year"
   ]
  },
  {
   "cell_type": "code",
   "execution_count": null,
   "metadata": {},
   "outputs": [],
   "source": [
    "# Map the content of listenRDD to tuples (SID,Year,UID)\n",
    "def tupleSidYearUser(line):\n",
    "    fields = line.split(\",\")\n",
    "    sid = fields[0]\n",
    "    uid = fields[1]\n",
    "    year = fields[2].split(\"/\")[0]\n",
    "    \n",
    "    return (sid,year,uid)\n",
    "\n",
    "sidYearUserRDD = listenRDD.map(tupleSidYearUser)"
   ]
  },
  {
   "cell_type": "code",
   "execution_count": null,
   "metadata": {},
   "outputs": [],
   "source": [
    "# Remove duplicates. We are interested in the number of distinct users for each (song,year)\n",
    "sidYearDistinctUserRDD =sidYearUserRDD.distinct()"
   ]
  },
  {
   "cell_type": "code",
   "execution_count": null,
   "metadata": {},
   "outputs": [],
   "source": [
    "# Count the number of distinct user for each pair (sid,year)"
   ]
  },
  {
   "cell_type": "code",
   "execution_count": null,
   "metadata": {},
   "outputs": [],
   "source": [
    "# Map sidYearDistinctUserRDD to pairs ( (sid,year), +1)\n",
    "sidYearOneRDD = sidYearDistinctUserRDD.map(lambda record: ( (record[0],record[1]), +1))"
   ]
  },
  {
   "cell_type": "code",
   "execution_count": null,
   "metadata": {},
   "outputs": [],
   "source": [
    "# ReduceByKey to count the number of distinct user for each pair (sid,year)\n",
    "sidYearPopularityRDD = sidYearOneRDD.reduceByKey(lambda v1,v2: v1+v2).cache()"
   ]
  },
  {
   "cell_type": "code",
   "execution_count": null,
   "metadata": {},
   "outputs": [],
   "source": [
    "# Compute the highest popularity for each song"
   ]
  },
  {
   "cell_type": "code",
   "execution_count": null,
   "metadata": {},
   "outputs": [],
   "source": [
    "# Map sidYearPopularityRDD to pairs (SID, annual popularity)\n",
    "sidPopularityRDD = sidYearPopularityRDD.map(lambda pair: (pair[0][0], pair[1]))"
   ]
  },
  {
   "cell_type": "code",
   "execution_count": null,
   "metadata": {},
   "outputs": [],
   "source": [
    "sidMaxPopularityRDD = sidPopularityRDD.reduceByKey(lambda v1,v2: max(v1,v2))"
   ]
  },
  {
   "cell_type": "code",
   "execution_count": null,
   "metadata": {},
   "outputs": [],
   "source": [
    "# Select for each song the year associated with the highest popularity"
   ]
  },
  {
   "cell_type": "code",
   "execution_count": null,
   "metadata": {},
   "outputs": [],
   "source": [
    "# Map sidYearPopularityRDD to pairs (SID, (year, annual popularity))\n",
    "sidYearPopRDD = sidYearPopularityRDD.map(lambda pair: (pair[0][0], (pair[0][1],pair[1])))"
   ]
  },
  {
   "cell_type": "code",
   "execution_count": null,
   "metadata": {},
   "outputs": [],
   "source": [
    "# Join sidMaxPopularityRDD and sidYearPopRDD and select for each song the years associated with its highest annual popularity\n",
    "joinSidMaxAnnualandLocalAnnualRDD = sidMaxPopularityRDD.join(sidYearPopRDD)"
   ]
  },
  {
   "cell_type": "code",
   "execution_count": null,
   "metadata": {},
   "outputs": [],
   "source": [
    "# select for each song the years associated with its highest annual popularity\n",
    "def annualEqualMax(pair):\n",
    "    maxAnnualPopularity = pair[1][0]\n",
    "    annualPopThisYear = pair[1][1][1]\n",
    "    \n",
    "    if (annualPopThisYear==maxAnnualPopularity):\n",
    "        return True\n",
    "    else:\n",
    "        return False\n",
    "      \n",
    "\n",
    "selectedSongYearsRDD = joinSidMaxAnnualandLocalAnnualRDD.filter(annualEqualMax)"
   ]
  },
  {
   "cell_type": "code",
   "execution_count": null,
   "metadata": {},
   "outputs": [],
   "source": [
    "# Select for each song the first year associated with its highest popularity"
   ]
  },
  {
   "cell_type": "code",
   "execution_count": null,
   "metadata": {},
   "outputs": [],
   "source": [
    "# Extract pairs (sid,year)\n",
    "# We can do this by changing the value pary\n",
    "sidYearRDD = selectedSongYearsRDD.mapValues(lambda pair: pair[1][0] )"
   ]
  },
  {
   "cell_type": "code",
   "execution_count": null,
   "metadata": {},
   "outputs": [],
   "source": [
    "# Select the first year for each key\n",
    "sidFirstYearMaxPopRDD = sidYearRDD.reduceByKey(lambda v1,v2: min(v1,v2))"
   ]
  },
  {
   "cell_type": "code",
   "execution_count": null,
   "metadata": {},
   "outputs": [],
   "source": [
    "sidFirstYearMaxPopRDD.saveAsTextFile(outputPathPart2)"
   ]
  },
  {
   "cell_type": "code",
   "execution_count": null,
   "metadata": {},
   "outputs": [],
   "source": []
  }
 ],
 "metadata": {
  "kernelspec": {
   "display_name": "Python 3",
   "language": "python",
   "name": "python3"
  },
  "language_info": {
   "codemirror_mode": {
    "name": "ipython",
    "version": 3
   },
   "file_extension": ".py",
   "mimetype": "text/x-python",
   "name": "python",
   "nbconvert_exporter": "python",
   "pygments_lexer": "ipython3",
   "version": "3.8.5"
  }
 },
 "nbformat": 4,
 "nbformat_minor": 4
}
