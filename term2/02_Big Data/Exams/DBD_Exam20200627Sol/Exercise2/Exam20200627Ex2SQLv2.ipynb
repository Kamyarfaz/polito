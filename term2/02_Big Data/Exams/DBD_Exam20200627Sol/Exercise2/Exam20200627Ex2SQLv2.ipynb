{
 "cells": [
  {
   "cell_type": "code",
   "execution_count": 13,
   "metadata": {},
   "outputs": [],
   "source": [
    "# Exam 2020/06/27 - Exercise #2 - SQL-based version #2\n",
    "# Alternative solution completely based on Spark SQL"
   ]
  },
  {
   "cell_type": "code",
   "execution_count": 14,
   "metadata": {},
   "outputs": [],
   "source": [
    "inputPathCars = \"exam_ex2_data/Cars.txt\"\n",
    "inputPathFailures = \"exam_ex2_data/CarsFailures.txt\"\n",
    "outputPathPart1 = \"outPart1\"\n",
    "outputPathPart2 = \"outPart2\""
   ]
  },
  {
   "cell_type": "code",
   "execution_count": 15,
   "metadata": {},
   "outputs": [],
   "source": [
    "# *****************************************\n",
    "# Exercise 2 - Part 1\n",
    "# *****************************************"
   ]
  },
  {
   "cell_type": "code",
   "execution_count": 16,
   "metadata": {},
   "outputs": [],
   "source": [
    "# Read the content of CarsFailures.txt\n",
    "failuresDF = spark.read.load(inputPathFailures,\\\n",
    "                            format=\"csv\",\\\n",
    "                            header=False,\\\n",
    "                            inferSchema=True)\\\n",
    ".withColumnRenamed(\"_c0\", \"date\")\\\n",
    ".withColumnRenamed(\"_c1\", \"time\")\\\n",
    ".withColumnRenamed(\"_c2\", \"carId\")\\\n",
    ".withColumnRenamed(\"_c3\", \"failureType\")\\\n",
    ".cache()"
   ]
  },
  {
   "cell_type": "code",
   "execution_count": 17,
   "metadata": {},
   "outputs": [],
   "source": [
    "# Read the content of Cars.txt\n",
    "carsDF = spark.read.load(inputPathCars,\\\n",
    "                            format=\"csv\",\\\n",
    "                            header=False,\\\n",
    "                            inferSchema=True)\\\n",
    ".withColumnRenamed(\"_c0\", \"carId\")\\\n",
    ".withColumnRenamed(\"_c1\", \"model\")\\\n",
    ".withColumnRenamed(\"_c2\", \"company\")\\\n",
    ".withColumnRenamed(\"_c3\", \"city\")"
   ]
  },
  {
   "cell_type": "code",
   "execution_count": 18,
   "metadata": {},
   "outputs": [],
   "source": [
    "# Associate the two dataFrames to two temporary tables\n",
    "carsDF.createOrReplaceTempView(\"cars\")\n",
    "failuresDF.createOrReplaceTempView(\"failures\")"
   ]
  },
  {
   "cell_type": "code",
   "execution_count": 19,
   "metadata": {},
   "outputs": [
    {
     "data": {
      "text/plain": [
       "<function __main__.year2018Func(date)>"
      ]
     },
     "execution_count": 19,
     "metadata": {},
     "output_type": "execute_result"
    }
   ],
   "source": [
    "# Define a UDF that returns 1 if the year is 2018. 0 otherwise.\n",
    "def year2018Func(date):\n",
    "    if date.startswith(\"2018\"):\n",
    "        return 1\n",
    "    else:\n",
    "        return 0\n",
    "    \n",
    "\n",
    "spark.udf.register(\"year2018\", year2018Func)"
   ]
  },
  {
   "cell_type": "code",
   "execution_count": 20,
   "metadata": {},
   "outputs": [
    {
     "data": {
      "text/plain": [
       "<function __main__.year2017Func(date)>"
      ]
     },
     "execution_count": 20,
     "metadata": {},
     "output_type": "execute_result"
    }
   ],
   "source": [
    "# Define a UDF that returns 1 if the year is 2017. 0 otherwise.\n",
    "def year2017Func(date):\n",
    "    if date.startswith(\"2017\"):\n",
    "        return 1\n",
    "    else:\n",
    "        return 0\n",
    "    \n",
    "\n",
    "spark.udf.register(\"year2017\", year2017Func)"
   ]
  },
  {
   "cell_type": "code",
   "execution_count": 21,
   "metadata": {},
   "outputs": [],
   "source": [
    "# Select only the failures related to years 2017 and 2018 and failureType=Engine\n",
    "# Count \n",
    "# - the number of engine failures in year 2017\n",
    "# - the number of engine failures in year 2018 \n",
    "# Select only the car with #failures 2018 > #failures 2017\n",
    "\n",
    "selectedCarsModelsDF = spark.sql(\"\"\"SELECT cars.carId, model\n",
    "FROM cars, failures\n",
    "WHERE cars.carId=failures.carId\n",
    "AND failures.failureType='Engine'\n",
    "GROUP BY cars.carId, model\n",
    "HAVING SUM( year2018(date)) > SUM( year2017(date)) \"\"\")"
   ]
  },
  {
   "cell_type": "code",
   "execution_count": 24,
   "metadata": {},
   "outputs": [],
   "source": [
    "# Store the result\n",
    "selectedCarsModelsDF.write.csv(outputPathPart1,header=False)"
   ]
  },
  {
   "cell_type": "code",
   "execution_count": null,
   "metadata": {},
   "outputs": [],
   "source": []
  },
  {
   "cell_type": "code",
   "execution_count": 27,
   "metadata": {},
   "outputs": [],
   "source": [
    "# *****************************************\n",
    "# Exercise 2 - Part 2\n",
    "# *****************************************"
   ]
  },
  {
   "cell_type": "code",
   "execution_count": 28,
   "metadata": {},
   "outputs": [],
   "source": [
    "# This function is already provided \n",
    "from datetime import datetime, timedelta\n",
    "def previousDate(mydate):\n",
    "    currentDate=datetime.strptime(mydate,\"%Y/%m/%d\")\n",
    "    prevDate=currentDate-timedelta(days=1)\n",
    "    return prevDate.strftime(\"%Y/%m/%d\")"
   ]
  },
  {
   "cell_type": "code",
   "execution_count": 30,
   "metadata": {},
   "outputs": [
    {
     "data": {
      "text/plain": [
       "<function __main__.<lambda>(currDate)>"
      ]
     },
     "execution_count": 30,
     "metadata": {},
     "output_type": "execute_result"
    }
   ],
   "source": [
    "# Define a UDF that returns the previous date\n",
    "spark.udf.register(\"prevDate\", lambda currDate: previousDate(currDate))"
   ]
  },
  {
   "cell_type": "code",
   "execution_count": 31,
   "metadata": {},
   "outputs": [],
   "source": [
    "# Select only carId and Date from each failure\n",
    "# and remove duplicates\n",
    "carsDatesDF = failuresDF.select(\"carId\", \"Date\").distinct()"
   ]
  },
  {
   "cell_type": "code",
   "execution_count": 35,
   "metadata": {},
   "outputs": [],
   "source": [
    "# Create a new dataframe that contains one record carId, Date-1 for each record of carsDatesDF\n",
    "# This is used to specify that each record of carsDatesDF is the second element of a window that \n",
    "# starts at Date-1\n",
    "carsDatesYesterdayDF = carsDatesDF.selectExpr(\"carId\", \"prevDate(Date) as Date\")"
   ]
  },
  {
   "cell_type": "code",
   "execution_count": 38,
   "metadata": {},
   "outputs": [],
   "source": [
    "# Apply union on the two dataFrames\n",
    "windowsElementsDF = carsDatesDF.union(carsDatesYesterdayDF)"
   ]
  },
  {
   "cell_type": "code",
   "execution_count": 48,
   "metadata": {},
   "outputs": [],
   "source": [
    "# Associate windowsElementsDF to temporary table\n",
    "windowsElementsDF.createOrReplaceTempView(\"windowElements\")"
   ]
  },
  {
   "cell_type": "code",
   "execution_count": 49,
   "metadata": {},
   "outputs": [],
   "source": [
    "# Select only the groups (carId, Date) associated with two records. These are associated with the \n",
    "# windows of two consecutive dates with at least one failure \n",
    "selectedWindowsDF = spark.sql(\"\"\"SELECT carId,Date\n",
    "FROM windowElements\n",
    "GROUP BY carId,Date\n",
    "HAVING COUNT(*)=2\"\"\")"
   ]
  },
  {
   "cell_type": "code",
   "execution_count": 56,
   "metadata": {},
   "outputs": [],
   "source": [
    "# Store the result\n",
    "selectedWindowsDF.write.csv(outputPathPart2,header=False)"
   ]
  },
  {
   "cell_type": "code",
   "execution_count": null,
   "metadata": {},
   "outputs": [],
   "source": []
  }
 ],
 "metadata": {
  "kernelspec": {
   "display_name": "Python 3",
   "language": "python",
   "name": "python3"
  },
  "language_info": {
   "codemirror_mode": {
    "name": "ipython",
    "version": 3
   },
   "file_extension": ".py",
   "mimetype": "text/x-python",
   "name": "python",
   "nbconvert_exporter": "python",
   "pygments_lexer": "ipython3",
   "version": "3.6.9"
  }
 },
 "nbformat": 4,
 "nbformat_minor": 4
}
