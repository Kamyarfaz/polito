{
 "cells": [
  {
   "cell_type": "code",
   "execution_count": 88,
   "metadata": {},
   "outputs": [],
   "source": [
    "# Exam 2020/06/27 - Exercise #2 - version #1"
   ]
  },
  {
   "cell_type": "code",
   "execution_count": 1,
   "metadata": {},
   "outputs": [],
   "source": [
    "inputPathCars = \"exam_ex2_data/Cars.txt\"\n",
    "inputPathFailures = \"exam_ex2_data/CarsFailures.txt\"\n",
    "outputPathPart1 = \"outPart1\"\n",
    "outputPathPart2 = \"outPart2\""
   ]
  },
  {
   "cell_type": "code",
   "execution_count": 2,
   "metadata": {},
   "outputs": [],
   "source": [
    "# *****************************************\n",
    "# Exercise 2 - Part 1\n",
    "# *****************************************"
   ]
  },
  {
   "cell_type": "code",
   "execution_count": 3,
   "metadata": {},
   "outputs": [],
   "source": [
    "# Read the content of CarsFailures.txt\n",
    "failuresRDD = sc.textFile(inputPathFailures).cache()"
   ]
  },
  {
   "cell_type": "code",
   "execution_count": 4,
   "metadata": {},
   "outputs": [],
   "source": [
    "# Select only the failures related to years 2017 and 2018 and failureType=Engine\n",
    "# 2015/01/05,08:45,Car15,Engine\n",
    "def years1718EngineFilter(line):\n",
    "    fields = line.split(\",\")\n",
    "    \n",
    "    date = fields[0]\n",
    "    failureType = fields[3]\n",
    "    \n",
    "    if ( (date.startswith(\"2018\") or date.startswith(\"2017\")) and failureType==\"Engine\"):\n",
    "        return True\n",
    "    else:\n",
    "        return False\n",
    "    \n",
    "selectedFailuresRDD = failuresRDD.filter(years1718EngineFilter)    "
   ]
  },
  {
   "cell_type": "code",
   "execution_count": 5,
   "metadata": {},
   "outputs": [],
   "source": [
    "# Count for each car the number of failures in years 2017 and 2018\n",
    "\n",
    "# Map each input line to a pair\n",
    "# key = carID\n",
    "# value = +1 if year is 2018. -1 if year is 2017\n",
    "\n",
    "def pairCarIDCounters(line):\n",
    "    fields = line.split(\",\")\n",
    "    date = fields[0]\n",
    "    carId= fields[2]\n",
    "    \n",
    "    if (date.startswith(\"2017\")):\n",
    "        return (carId, -1)\n",
    "    else:\n",
    "        return (carId, +1)\n",
    "    \n",
    "carsCountersRDD = selectedFailuresRDD.map(pairCarIDCounters)"
   ]
  },
  {
   "cell_type": "code",
   "execution_count": 7,
   "metadata": {},
   "outputs": [],
   "source": [
    "# Sum the ones\n",
    "carsTotFailures1718RDD = carsCountersRDD.reduceByKey(lambda v1,v2: v1+v2)"
   ]
  },
  {
   "cell_type": "code",
   "execution_count": 8,
   "metadata": {},
   "outputs": [],
   "source": [
    "# Select the cars associated with a value > 0 , i.e, cars with #failures 2018># failurs 2017\n",
    "selectedCarsRDD = carsTotFailures1718RDD.filter(lambda pair: pair[1]>0)"
   ]
  },
  {
   "cell_type": "code",
   "execution_count": 10,
   "metadata": {},
   "outputs": [],
   "source": [
    "# Read the content of Cars.txt\n",
    "carsRDD = sc.textFile(inputPathCars)"
   ]
  },
  {
   "cell_type": "code",
   "execution_count": 11,
   "metadata": {},
   "outputs": [],
   "source": [
    "# Extract (carId,model)\n",
    "# Car12,Panda,FCA,Paris\n",
    "carModelRDD = carsRDD.map(lambda line: (line.split(\",\")[0], line.split(\",\")[1]))"
   ]
  },
  {
   "cell_type": "code",
   "execution_count": 12,
   "metadata": {},
   "outputs": [],
   "source": [
    "# Join the content of selectedCarsRDD with carModelRDD\n",
    "joinSelectedRDD = selectedCarsRDD.join(carModelRDD)"
   ]
  },
  {
   "cell_type": "code",
   "execution_count": 14,
   "metadata": {},
   "outputs": [],
   "source": [
    "# Select (carID,model) and store it in output first output folder\n",
    "# carId is already the key. The must only change the value part in order to select only the model of the car\n",
    "selectedCarsModels = joinSelectedRDD.mapValues(lambda value: value[1])"
   ]
  },
  {
   "cell_type": "code",
   "execution_count": 100,
   "metadata": {},
   "outputs": [],
   "source": [
    "# Store the result\n",
    "selectedCarsModels.saveAsTextFile(outputPathPart1)"
   ]
  },
  {
   "cell_type": "code",
   "execution_count": null,
   "metadata": {},
   "outputs": [],
   "source": []
  },
  {
   "cell_type": "code",
   "execution_count": 101,
   "metadata": {},
   "outputs": [],
   "source": [
    "# *****************************************\n",
    "# Exercise 2 - Part 2\n",
    "# *****************************************"
   ]
  },
  {
   "cell_type": "code",
   "execution_count": 102,
   "metadata": {},
   "outputs": [],
   "source": [
    "# This function is already provided \n",
    "from datetime import datetime, timedelta\n",
    "def previousDate(mydate):\n",
    "    currentDate=datetime.strptime(mydate,\"%Y/%m/%d\")\n",
    "    prevDate=currentDate-timedelta(days=1)\n",
    "    return prevDate.strftime(\"%Y/%m/%d\")"
   ]
  },
  {
   "cell_type": "code",
   "execution_count": 103,
   "metadata": {},
   "outputs": [],
   "source": [
    "# Analyze all the failures and emit a pair (CarId, Date) from each failure\n",
    "def carIdDate(line):\n",
    "    # 2015/01/05,08:45,Car15,Engine\n",
    "    fields = line.split(\",\")\n",
    "    \n",
    "    date = fields[0]\n",
    "    carId = fields[2]\n",
    "    \n",
    "    return (carId, date)\n",
    "\n",
    "carsDatesRDD = failuresRDD.map(carIdDate)"
   ]
  },
  {
   "cell_type": "code",
   "execution_count": 104,
   "metadata": {},
   "outputs": [],
   "source": [
    "# Remove duplicates. The same car can have more than one failure per date\n",
    "carsDatesDistinctRDD = carsDatesRDD.distinct()"
   ]
  },
  {
   "cell_type": "code",
   "execution_count": 105,
   "metadata": {},
   "outputs": [],
   "source": [
    "# Emit two pairs from each input pair\n",
    "# - ((carId,  date), +1)   - First element of the window that starts in this date\n",
    "# - ((carId,date-1), +1)   - Second element of the window that starts in the previous date\n",
    "def flatMapFunc(pair):\n",
    "    returnedPairs = []\n",
    "    \n",
    "    carId = pair[0]\n",
    "    currDate = pair[1]\n",
    "    prevDate= previousDate(currDate)\n",
    "    \n",
    "    returnedPairs.append( ((carId, currDate), +1) )\n",
    "    returnedPairs.append( ((carId, prevDate), +1) )\n",
    "    \n",
    "    return returnedPairs\n",
    "\n",
    "\n",
    "windowsElementsRDD = carsDatesDistinctRDD.flatMap(flatMapFunc)"
   ]
  },
  {
   "cell_type": "code",
   "execution_count": 106,
   "metadata": {},
   "outputs": [],
   "source": [
    "# Count the number of elements per windows\n",
    "windowsNumElementsRDD = windowsElementsRDD.reduceByKey(lambda v1, v2: v1+v2)"
   ]
  },
  {
   "cell_type": "code",
   "execution_count": 107,
   "metadata": {},
   "outputs": [],
   "source": [
    "# Select the windows with 2 elements\n",
    "selectedWindowsRDD = windowsNumElementsRDD.filter(lambda pair: pair[1]==2)"
   ]
  },
  {
   "cell_type": "code",
   "execution_count": 108,
   "metadata": {},
   "outputs": [],
   "source": [
    "# Store the key part of the selected pairs (carId, first date of the sequence)\n",
    "selectedWindowsRDD.keys().saveAsTextFile(outputPathPart2)"
   ]
  },
  {
   "cell_type": "code",
   "execution_count": null,
   "metadata": {},
   "outputs": [],
   "source": []
  }
 ],
 "metadata": {
  "kernelspec": {
   "display_name": "Python 3",
   "language": "python",
   "name": "python3"
  },
  "language_info": {
   "codemirror_mode": {
    "name": "ipython",
    "version": 3
   },
   "file_extension": ".py",
   "mimetype": "text/x-python",
   "name": "python",
   "nbconvert_exporter": "python",
   "pygments_lexer": "ipython3",
   "version": "3.6.9"
  }
 },
 "nbformat": 4,
 "nbformat_minor": 4
}
