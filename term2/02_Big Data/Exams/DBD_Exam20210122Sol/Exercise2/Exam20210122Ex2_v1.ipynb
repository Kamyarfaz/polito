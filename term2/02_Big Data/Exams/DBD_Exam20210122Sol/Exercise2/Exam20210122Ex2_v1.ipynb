{
 "cells": [
  {
   "cell_type": "code",
   "execution_count": null,
   "metadata": {},
   "outputs": [],
   "source": [
    "# Input data and output folders\n",
    "\n",
    "inProdPlants = \"ProductionPlants.txt\"\n",
    "inRobots = \"Robots.txt\"\n",
    "inFailures = \"Failures.txt\"\n",
    "\n",
    "outputPathPart1 = \"outPart1/\"\n",
    "outputPathPart2 = \"outPart2/\""
   ]
  },
  {
   "cell_type": "code",
   "execution_count": null,
   "metadata": {},
   "outputs": [],
   "source": [
    "# Write your code here"
   ]
  },
  {
   "cell_type": "code",
   "execution_count": null,
   "metadata": {},
   "outputs": [],
   "source": [
    "# Part 1"
   ]
  },
  {
   "cell_type": "code",
   "execution_count": null,
   "metadata": {},
   "outputs": [],
   "source": [
    "prodPlantsRDD = sc.textFile(inProdPlants)"
   ]
  },
  {
   "cell_type": "code",
   "execution_count": null,
   "metadata": {},
   "outputs": [],
   "source": [
    "robotsRDD = sc.textFile(inRobots)"
   ]
  },
  {
   "cell_type": "code",
   "execution_count": null,
   "metadata": {},
   "outputs": [],
   "source": [
    "# Select production plants located in Italy\n",
    "prodPlantsItalyRDD = prodPlantsRDD.filter(lambda line: line.split(\",\")[2] == 'Italy')"
   ]
  },
  {
   "cell_type": "code",
   "execution_count": null,
   "metadata": {},
   "outputs": [],
   "source": [
    "# Map each line of prodPlantsRDD to a pair (PlantID, City)\n",
    "def plantIdCity(line):\n",
    "    fields = line.split(\",\")\n",
    "    plantID = fields[0]\n",
    "    city = fields[1]\n",
    "    \n",
    "    return (plantID,city)\n",
    "    \n",
    "planIDCityRDD = prodPlantsItalyRDD.map(plantIdCity)"
   ]
  },
  {
   "cell_type": "code",
   "execution_count": null,
   "metadata": {},
   "outputs": [],
   "source": [
    "# Map each line of robotsRDD to a pair (PlantID, +1)\n",
    "ridNoneRDD = robotsRDD.map(lambda line: (line.split(\",\")[1], +1))"
   ]
  },
  {
   "cell_type": "code",
   "execution_count": null,
   "metadata": {},
   "outputs": [],
   "source": [
    "# Join planIDCityRDD with ridNoneRDD\n",
    "joinPlantIDRIDOneRDD = planIDCityRDD.join(ridNoneRDD)"
   ]
  },
  {
   "cell_type": "code",
   "execution_count": null,
   "metadata": {},
   "outputs": [],
   "source": [
    "# Each value part cointains a pair (City, +1) \n",
    "cityOneRDD = joinPlantIDRIDOneRDD.values()"
   ]
  },
  {
   "cell_type": "code",
   "execution_count": null,
   "metadata": {},
   "outputs": [],
   "source": [
    "# Count the number of robots per city\n",
    "citiesTotRobotsRDD = cityOneRDD.reduceByKey(lambda v1,v2: v1+v2)"
   ]
  },
  {
   "cell_type": "code",
   "execution_count": null,
   "metadata": {},
   "outputs": [],
   "source": [
    "# Compute the maximum number of robots \n",
    "maxRobots = citiesTotRobotsRDD.values().reduce(lambda v1,v2: max(v1,v2))"
   ]
  },
  {
   "cell_type": "code",
   "execution_count": null,
   "metadata": {},
   "outputs": [],
   "source": [
    "# Select the city/ies) associated with the maximum value\n",
    "selectedCitiesRDD = citiesTotRobotsRDD.filter(lambda pair: pair[1]==maxRobots)"
   ]
  },
  {
   "cell_type": "code",
   "execution_count": null,
   "metadata": {},
   "outputs": [],
   "source": [
    "selectedCitiesRDD.keys().saveAsTextFile(outputPathPart1)"
   ]
  },
  {
   "cell_type": "code",
   "execution_count": null,
   "metadata": {},
   "outputs": [],
   "source": []
  },
  {
   "cell_type": "code",
   "execution_count": null,
   "metadata": {},
   "outputs": [],
   "source": [
    "# Part 2"
   ]
  },
  {
   "cell_type": "code",
   "execution_count": null,
   "metadata": {},
   "outputs": [],
   "source": [
    "failuresRDD = sc.textFile(inFailures)"
   ]
  },
  {
   "cell_type": "code",
   "execution_count": null,
   "metadata": {},
   "outputs": [],
   "source": [
    "# Map each failure to a pair (RID, +1)  \n",
    "planIDCityRDD = failuresRDD.map(lambda line: (line.split(\",\")[0], +1))"
   ]
  },
  {
   "cell_type": "code",
   "execution_count": null,
   "metadata": {},
   "outputs": [],
   "source": [
    "# Compute the number of failures for each robot"
   ]
  },
  {
   "cell_type": "code",
   "execution_count": null,
   "metadata": {},
   "outputs": [],
   "source": [
    "failuresRobotRDD = planIDCityRDD.reduceByKey(lambda v1, v2: v1+v2)"
   ]
  },
  {
   "cell_type": "code",
   "execution_count": null,
   "metadata": {},
   "outputs": [],
   "source": [
    "# Map each robot to a pair (RID, PlantId)  \n",
    "def ridPlantID(line):\n",
    "    fields = line.split(\",\")\n",
    "    rid = fields[0]\n",
    "    pid = fields[1]\n",
    "    \n",
    "    return (rid,pid)\n",
    "\n",
    "\n",
    "ridPidRDD = robotsRDD.map(ridPlantID)"
   ]
  },
  {
   "cell_type": "code",
   "execution_count": null,
   "metadata": {},
   "outputs": [],
   "source": [
    "# Join ridPidRDD with failuresRobotRDD\n",
    "joinRidPidNumFailuresRDD = ridPidRDD.join(failuresRobotRDD)"
   ]
  },
  {
   "cell_type": "code",
   "execution_count": null,
   "metadata": {},
   "outputs": [],
   "source": [
    "# Map to pairs (PID, numFailuresRobot) and compute the maximum value for each PID\n",
    "# This RDD does not contains the production plants without failures\n",
    "pidMaxFailuresPerRobotRDD = joinRidPidNumFailuresRDD.values().reduceByKey(lambda v1, v2: max(v1, v2))"
   ]
  },
  {
   "cell_type": "code",
   "execution_count": null,
   "metadata": {},
   "outputs": [],
   "source": [
    "# Map input productin plants to pair (plantId, 0)\n",
    "pidZeroRDD = prodPlantsRDD.map(lambda line: (line.split(\",\")[0], 0))"
   ]
  },
  {
   "cell_type": "code",
   "execution_count": null,
   "metadata": {},
   "outputs": [],
   "source": [
    "# Retrieve the production plants with a maximum number of failures per robots equal to 0\n",
    "pidNoFailuresRDD = pidZeroRDD.subtractByKey(pidMaxFailuresPerRobotRDD)"
   ]
  },
  {
   "cell_type": "code",
   "execution_count": null,
   "metadata": {},
   "outputs": [],
   "source": [
    "# The final result is the union of pidMaxFailuresPerRobotRDD and pidNoFailuresRDD\n",
    "resPart2RDD = pidMaxFailuresPerRobotRDD.union(pidNoFailuresRDD)"
   ]
  },
  {
   "cell_type": "code",
   "execution_count": null,
   "metadata": {},
   "outputs": [],
   "source": [
    "resPart2RDD.saveAsTextFile(outputPathPart2)"
   ]
  },
  {
   "cell_type": "code",
   "execution_count": null,
   "metadata": {},
   "outputs": [],
   "source": []
  }
 ],
 "metadata": {
  "kernelspec": {
   "display_name": "Python 3",
   "language": "python",
   "name": "python3"
  },
  "language_info": {
   "codemirror_mode": {
    "name": "ipython",
    "version": 3
   },
   "file_extension": ".py",
   "mimetype": "text/x-python",
   "name": "python",
   "nbconvert_exporter": "python",
   "pygments_lexer": "ipython3",
   "version": "3.8.5"
  }
 },
 "nbformat": 4,
 "nbformat_minor": 4
}
