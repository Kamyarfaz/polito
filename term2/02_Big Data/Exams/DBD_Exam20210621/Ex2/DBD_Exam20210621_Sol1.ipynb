{
 "cells": [
  {
   "cell_type": "code",
   "execution_count": 6,
   "metadata": {},
   "outputs": [],
   "source": [
    "import pyspark\n",
    "\n",
    "from pyspark import SparkContext\n",
    "from pyspark import SparkConf\n",
    "from pyspark.sql import SparkSession\n",
    "from pyspark.sql import functions"
   ]
  },
  {
   "cell_type": "code",
   "execution_count": 7,
   "metadata": {},
   "outputs": [],
   "source": [
    "spark = SparkSession.builder.getOrCreate()\n",
    "sc = spark.sparkContext"
   ]
  },
  {
   "cell_type": "code",
   "execution_count": 8,
   "metadata": {},
   "outputs": [],
   "source": [
    "carModelsPath = 'data/CarModels.txt'\n",
    "salesEUPath = 'data/SalesEU.txt'\n",
    "salesExtraEUPath = 'data/SalesExtraEU.txt'\n",
    "\n",
    "\n",
    "output1 = 'out1'\n",
    "output2 = 'out2'"
   ]
  },
  {
   "cell_type": "code",
   "execution_count": 15,
   "metadata": {},
   "outputs": [],
   "source": [
    "modelsRDD = sc.textFile(carModelsPath)\n",
    "euSalesRDD = sc.textFile(salesEUPath)\n",
    "\n",
    "def modelSalesMap(x):\n",
    "    return (x[0], 1)\n",
    "\n",
    "def modelPriceMap(x):\n",
    "    modelId = x[0]\n",
    "    priceTuple = (x[1], 1)\n",
    "    return (modelId, priceTuple)\n",
    "\n",
    "def keepModelPrice(line):\n",
    "    fields = line.split(',')\n",
    "    modelId = fields[2]\n",
    "    price = float(fields[5])\n",
    "    return (modelId, price)\n",
    "\n",
    "# Select vehicles manufactured by FIAT\n",
    "# (modelId, 'FIAT')\n",
    "fiatModelsRDD = modelsRDD.filter(lambda line: line.split(',')[2] == 'FIAT')\\\n",
    "                            .map(lambda line: (line.split(',')[0], line.split(',')[2])) \n",
    "\n",
    "# Select only sales in Italy\n",
    "# (modelId, price)\n",
    "italySalesRDD = euSalesRDD.filter(lambda line: line.split(',')[4] == 'Italy')\\\n",
    "                            .map(keepModelPrice)\n",
    "\n",
    "# Select sales of modelIDs manufactured by FIAT\n",
    "# (modelId, price)\n",
    "italyFiatSalesRDD = italySalesRDD.join(fiatModelsRDD)\\\n",
    "                            .map(lambda x: (x[0], x[1][0]))\n",
    "\n",
    "# Count the sales in Italy for each modelId and select only the entries with sales > 1M\n",
    "# (modelId, n. of sales)\n",
    "modelItalyHighSalesRDD = italyFiatSalesRDD.map(modelSalesMap)\\\n",
    "                                    .reduceByKey(lambda v1, v2: v1 + v2)\\\n",
    "                                    .filter(lambda x: x[1] > 960) # 1000000 instead of 960, set for testing purposes\n",
    "\n",
    "# Compute the average price in Italy for each modelId and select only the entries with avg price > 50k\n",
    "# (modelId, (price, +1)) ----> (modelId, avg_price)\n",
    "modelItalyHighAvgPriceRDD = italyFiatSalesRDD.map(modelPriceMap)\\\n",
    "                                    .reduceByKey(lambda v1, v2: (v1[0] + v2[0], v1[1] + v2[1]))\\\n",
    "                                    .mapValues(lambda x: x[0] / x[1])\\\n",
    "                                    .filter(lambda x: x[1] > 50000)\n",
    "\n",
    "# Join the 2 RDDs and retrieve the keys only\n",
    "fiatModelItalyHighSalesAndAvgPriceRDD = modelItalyHighSalesRDD.join(modelItalyHighAvgPriceRDD)\\\n",
    "                                                        .keys()\n",
    "\n",
    "fiatModelItalyHighSalesAndAvgPriceRDD.saveAsTextFile(output1)"
   ]
  },
  {
   "cell_type": "code",
   "execution_count": null,
   "metadata": {},
   "outputs": [],
   "source": [
    "# ____________________________________________________\n",
    "# Task 2 v1\n",
    "# ____________________________________________________"
   ]
  },
  {
   "cell_type": "code",
   "execution_count": 30,
   "metadata": {},
   "outputs": [],
   "source": [
    "extraEURDD = sc.textFile(salesExtraEUPath)\n",
    "\n",
    "def modelIdSalesPerYear(line):\n",
    "    fields = line.split(',')\n",
    "    modelId = fields[2]\n",
    "    date = fields[3]\n",
    "    year = int(date.split('/')[0])\n",
    "    return ((modelId, year), 1)\n",
    "\n",
    "# Obtain for the 2 sales datasets and RDD with\n",
    "# ((modelId, year), +1)\n",
    "euSalesPerYearRDD = euSalesRDD.map(modelIdSalesPerYear)\n",
    "extraEUSalesPerYearRDD = extraEURDD.map(modelIdSalesPerYear)\n",
    "\n",
    "# Merge the two RDDs and count for each year and each modelId the number of sales\n",
    "# ((modelId, year), n. of sales)\n",
    "globalSalesPerYear = euSalesPerYearRDD.union(extraEUSalesPerYearRDD)\\\n",
    "                                        .reduceByKey(lambda v1, v2: v1 + v2)\n",
    "\n",
    "def checkIncreasingSales(x):\n",
    "    salesList = x[1]\n",
    "    salesList.sort()\n",
    "    \n",
    "    lastYear = -1\n",
    "    lastSales = -1\n",
    "    for year, sales in salesList:\n",
    "        # verification\n",
    "        assert lastYear == -1 or (lastYear + 1) == year\n",
    "        if sales <= lastSales:\n",
    "            return False\n",
    "        lastSales = sales\n",
    "        lastYear = year\n",
    "    return True\n",
    "\n",
    "# Map each ((modelId, year), n. of sales) in (modelId, (year, n. of sales))\n",
    "# Group by key to obtain a list containing 50 elements, one per year, with the number of sales for that year\n",
    "# Analyze the list to check if the number of sales is always increasing\n",
    "# We suppose that the number of year is small enough to be stored and analyzed in one single list.\n",
    "modelIdsWithIncreasingSales = globalSalesPerYear.map(lambda x: (x[0][0], (x[0][1], x[1])))\\\n",
    "                                            .groupByKey()\\\n",
    "                                            .mapValues(list)\\\n",
    "                                            .filter(checkIncreasingSales)\n",
    "modelIdsWithIncreasingSales.keys().saveAsTextFile(output2)"
   ]
  }
 ],
 "metadata": {
  "interpreter": {
   "hash": "faae1d37b5ada422cb4c6eab0d24ee311a209a82ccd0fec58e8e7d3d976add61"
  },
  "kernelspec": {
   "display_name": "Python 3",
   "language": "python",
   "name": "python3"
  },
  "language_info": {
   "codemirror_mode": {
    "name": "ipython",
    "version": 3
   },
   "file_extension": ".py",
   "mimetype": "text/x-python",
   "name": "python",
   "nbconvert_exporter": "python",
   "pygments_lexer": "ipython3",
   "version": "3.8.5"
  }
 },
 "nbformat": 4,
 "nbformat_minor": 2
}
